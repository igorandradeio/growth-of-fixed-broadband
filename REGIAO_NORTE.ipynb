{
 "cells": [
  {
   "cell_type": "markdown",
   "metadata": {},
   "source": [
    "# Growth of fixed broadband internet speeds: A Comparative Study of Brazilian States."
   ]
  },
  {
   "cell_type": "code",
   "execution_count": 4,
   "metadata": {},
   "outputs": [],
   "source": [
    "import pandas as pd\n",
    "import matplotlib\n",
    "import matplotlib.pyplot as plt\n",
    "import numpy as np"
   ]
  },
  {
   "cell_type": "code",
   "execution_count": 5,
   "metadata": {},
   "outputs": [],
   "source": [
    "data = pd.read_csv(\"data.csv\")"
   ]
  },
  {
   "cell_type": "code",
   "execution_count": 6,
   "metadata": {
    "scrolled": false
   },
   "outputs": [
    {
     "data": {
      "text/html": [
       "<div>\n",
       "<style scoped>\n",
       "    .dataframe tbody tr th:only-of-type {\n",
       "        vertical-align: middle;\n",
       "    }\n",
       "\n",
       "    .dataframe tbody tr th {\n",
       "        vertical-align: top;\n",
       "    }\n",
       "\n",
       "    .dataframe thead th {\n",
       "        text-align: right;\n",
       "    }\n",
       "</style>\n",
       "<table border=\"1\" class=\"dataframe\">\n",
       "  <thead>\n",
       "    <tr style=\"text-align: right;\">\n",
       "      <th></th>\n",
       "      <th>Cod_Municipio</th>\n",
       "      <th>Municipio</th>\n",
       "      <th>UF</th>\n",
       "      <th>Regiao</th>\n",
       "      <th>Faixa</th>\n",
       "      <th>2015_01</th>\n",
       "      <th>2015_02</th>\n",
       "      <th>2015_03</th>\n",
       "      <th>2015_04</th>\n",
       "      <th>2015_05</th>\n",
       "      <th>...</th>\n",
       "      <th>2018_01</th>\n",
       "      <th>2018_02</th>\n",
       "      <th>2018_03</th>\n",
       "      <th>2018_04</th>\n",
       "      <th>2018_05</th>\n",
       "      <th>2018_06</th>\n",
       "      <th>2018_07</th>\n",
       "      <th>2018_08</th>\n",
       "      <th>2018_09</th>\n",
       "      <th>2018_10</th>\n",
       "    </tr>\n",
       "  </thead>\n",
       "  <tbody>\n",
       "    <tr>\n",
       "      <td>0</td>\n",
       "      <td>1100015</td>\n",
       "      <td>ALTA_FLORESTA_D_OESTE</td>\n",
       "      <td>RO</td>\n",
       "      <td>NORTE</td>\n",
       "      <td>0kbps_a_512kbps</td>\n",
       "      <td>0.13</td>\n",
       "      <td>0.12</td>\n",
       "      <td>0.10</td>\n",
       "      <td>0.13</td>\n",
       "      <td>0.11</td>\n",
       "      <td>...</td>\n",
       "      <td>0.24</td>\n",
       "      <td>0.26</td>\n",
       "      <td>0.25</td>\n",
       "      <td>0.59</td>\n",
       "      <td>0.59</td>\n",
       "      <td>0.60</td>\n",
       "      <td>0.66</td>\n",
       "      <td>0.65</td>\n",
       "      <td>0.66</td>\n",
       "      <td>0.65</td>\n",
       "    </tr>\n",
       "    <tr>\n",
       "      <td>1</td>\n",
       "      <td>1100015</td>\n",
       "      <td>ALTA_FLORESTA_D_OSTE</td>\n",
       "      <td>RO</td>\n",
       "      <td>NORTE</td>\n",
       "      <td>12Mbps_a_34Mbps</td>\n",
       "      <td>0.01</td>\n",
       "      <td>0.01</td>\n",
       "      <td>0.01</td>\n",
       "      <td>0.01</td>\n",
       "      <td>0.02</td>\n",
       "      <td>...</td>\n",
       "      <td>0.20</td>\n",
       "      <td>0.20</td>\n",
       "      <td>0.21</td>\n",
       "      <td>0.22</td>\n",
       "      <td>0.18</td>\n",
       "      <td>0.18</td>\n",
       "      <td>0.19</td>\n",
       "      <td>0.20</td>\n",
       "      <td>0.20</td>\n",
       "      <td>0.19</td>\n",
       "    </tr>\n",
       "    <tr>\n",
       "      <td>2</td>\n",
       "      <td>1100015</td>\n",
       "      <td>ALTA_FLORESTA_D_OESTE</td>\n",
       "      <td>RO</td>\n",
       "      <td>NORTE</td>\n",
       "      <td>2Mbps_a_12Mbps</td>\n",
       "      <td>0.68</td>\n",
       "      <td>0.73</td>\n",
       "      <td>0.76</td>\n",
       "      <td>0.80</td>\n",
       "      <td>0.88</td>\n",
       "      <td>...</td>\n",
       "      <td>1.07</td>\n",
       "      <td>1.07</td>\n",
       "      <td>1.07</td>\n",
       "      <td>1.09</td>\n",
       "      <td>1.09</td>\n",
       "      <td>1.11</td>\n",
       "      <td>1.50</td>\n",
       "      <td>1.32</td>\n",
       "      <td>1.27</td>\n",
       "      <td>1.64</td>\n",
       "    </tr>\n",
       "    <tr>\n",
       "      <td>3</td>\n",
       "      <td>1100015</td>\n",
       "      <td>ALTA_FLORESTA_D_OESTE</td>\n",
       "      <td>RO</td>\n",
       "      <td>NORTE</td>\n",
       "      <td>512kbps_a_2Mbps</td>\n",
       "      <td>1.38</td>\n",
       "      <td>1.37</td>\n",
       "      <td>1.36</td>\n",
       "      <td>1.35</td>\n",
       "      <td>1.33</td>\n",
       "      <td>...</td>\n",
       "      <td>1.50</td>\n",
       "      <td>1.54</td>\n",
       "      <td>1.56</td>\n",
       "      <td>2.31</td>\n",
       "      <td>2.19</td>\n",
       "      <td>2.17</td>\n",
       "      <td>2.09</td>\n",
       "      <td>1.84</td>\n",
       "      <td>1.85</td>\n",
       "      <td>2.03</td>\n",
       "    </tr>\n",
       "    <tr>\n",
       "      <td>4</td>\n",
       "      <td>1100023</td>\n",
       "      <td>ARIQUEMES</td>\n",
       "      <td>RO</td>\n",
       "      <td>NORTE</td>\n",
       "      <td>0kbps_a_512kbps</td>\n",
       "      <td>0.23</td>\n",
       "      <td>0.22</td>\n",
       "      <td>0.22</td>\n",
       "      <td>0.22</td>\n",
       "      <td>0.24</td>\n",
       "      <td>...</td>\n",
       "      <td>0.09</td>\n",
       "      <td>0.09</td>\n",
       "      <td>0.09</td>\n",
       "      <td>0.09</td>\n",
       "      <td>0.08</td>\n",
       "      <td>0.08</td>\n",
       "      <td>0.08</td>\n",
       "      <td>0.08</td>\n",
       "      <td>0.08</td>\n",
       "      <td>0.08</td>\n",
       "    </tr>\n",
       "  </tbody>\n",
       "</table>\n",
       "<p>5 rows × 51 columns</p>\n",
       "</div>"
      ],
      "text/plain": [
       "   Cod_Municipio              Municipio  UF Regiao            Faixa  2015_01  \\\n",
       "0        1100015  ALTA_FLORESTA_D_OESTE  RO  NORTE  0kbps_a_512kbps     0.13   \n",
       "1        1100015   ALTA_FLORESTA_D_OSTE  RO  NORTE  12Mbps_a_34Mbps     0.01   \n",
       "2        1100015  ALTA_FLORESTA_D_OESTE  RO  NORTE   2Mbps_a_12Mbps     0.68   \n",
       "3        1100015  ALTA_FLORESTA_D_OESTE  RO  NORTE  512kbps_a_2Mbps     1.38   \n",
       "4        1100023              ARIQUEMES  RO  NORTE  0kbps_a_512kbps     0.23   \n",
       "\n",
       "   2015_02  2015_03  2015_04  2015_05  ...  2018_01  2018_02  2018_03  \\\n",
       "0     0.12     0.10     0.13     0.11  ...     0.24     0.26     0.25   \n",
       "1     0.01     0.01     0.01     0.02  ...     0.20     0.20     0.21   \n",
       "2     0.73     0.76     0.80     0.88  ...     1.07     1.07     1.07   \n",
       "3     1.37     1.36     1.35     1.33  ...     1.50     1.54     1.56   \n",
       "4     0.22     0.22     0.22     0.24  ...     0.09     0.09     0.09   \n",
       "\n",
       "   2018_04  2018_05  2018_06  2018_07  2018_08  2018_09  2018_10  \n",
       "0     0.59     0.59     0.60     0.66     0.65     0.66     0.65  \n",
       "1     0.22     0.18     0.18     0.19     0.20     0.20     0.19  \n",
       "2     1.09     1.09     1.11     1.50     1.32     1.27     1.64  \n",
       "3     2.31     2.19     2.17     2.09     1.84     1.85     2.03  \n",
       "4     0.09     0.08     0.08     0.08     0.08     0.08     0.08  \n",
       "\n",
       "[5 rows x 51 columns]"
      ]
     },
     "execution_count": 6,
     "metadata": {},
     "output_type": "execute_result"
    }
   ],
   "source": [
    "data.head()"
   ]
  },
  {
   "cell_type": "code",
   "execution_count": 7,
   "metadata": {},
   "outputs": [],
   "source": [
    "regNrt = data['Regiao'] == \"NORTE\"\n",
    "regSul = data['Regiao'] == \"SUL\"\n",
    "regSud = data['Regiao'] == 'SUDESTE'\n",
    "regNrd = data['Regiao'] == 'NORDESTE'\n",
    "regCen = data['Regiao'] == 'CENTROOESTE'"
   ]
  },
  {
   "cell_type": "code",
   "execution_count": 8,
   "metadata": {},
   "outputs": [],
   "source": [
    "spd1 = data['Faixa'] == '0kbps_a_512kbps'\n",
    "spd2 = data['Faixa'] == '512kbps_a_2Mbps'\n",
    "spd3 = data['Faixa'] == '2Mbps_a_12Mbps'\n",
    "spd4 = data['Faixa'] == '12Mbps_a_34Mbps'\n",
    "spd5 = data['Faixa'] == '>_34Mbps'"
   ]
  },
  {
   "cell_type": "code",
   "execution_count": 9,
   "metadata": {},
   "outputs": [],
   "source": [
    "resNrt1 = data[(regNrt) & (spd1)]\n",
    "resNrt2 = data[(regNrt) & (spd2)]\n",
    "resNrt3 = data[(regNrt) & (spd3)]\n",
    "resNrt4 = data[(regNrt) & (spd4)]\n",
    "resNrt5 = data[(regNrt) & (spd5)]"
   ]
  },
  {
   "cell_type": "code",
   "execution_count": 10,
   "metadata": {},
   "outputs": [],
   "source": [
    "resSul1 = data[(regSul) & (spd1)]\n",
    "resSul2 = data[(regSul) & (spd2)]\n",
    "resSul3 = data[(regSul) & (spd3)]\n",
    "resSul4 = data[(regSul) & (spd4)]\n",
    "resSul5 = data[(regSul) & (spd5)]"
   ]
  },
  {
   "cell_type": "code",
   "execution_count": 11,
   "metadata": {},
   "outputs": [],
   "source": [
    "resSud1 = data[(regSud) & (spd1)]\n",
    "resSud2 = data[(regSud) & (spd2)]\n",
    "resSud3 = data[(regSud) & (spd3)]\n",
    "resSud4 = data[(regSud) & (spd4)]\n",
    "resSud5 = data[(regSud) & (spd5)]"
   ]
  },
  {
   "cell_type": "code",
   "execution_count": 12,
   "metadata": {},
   "outputs": [],
   "source": [
    "resNrd1 = data[(regNrd) & (spd1)]\n",
    "resNrd2 = data[(regNrd) & (spd2)]\n",
    "resNrd3 = data[(regNrd) & (spd3)]\n",
    "resNrd4 = data[(regNrd) & (spd4)]\n",
    "resNrd5 = data[(regNrd) & (spd5)]"
   ]
  },
  {
   "cell_type": "code",
   "execution_count": 13,
   "metadata": {},
   "outputs": [],
   "source": [
    "resCen1 = data[(regCen) & (spd1)]\n",
    "resCen2 = data[(regCen) & (spd2)]\n",
    "resCen3 = data[(regCen) & (spd3)]\n",
    "resCen4 = data[(regCen) & (spd4)]\n",
    "resCen5 = data[(regCen) & (spd5)]"
   ]
  },
  {
   "cell_type": "code",
   "execution_count": 14,
   "metadata": {},
   "outputs": [],
   "source": [
    "pd.set_option('display.max_rows', data.shape[0]+1)"
   ]
  },
  {
   "cell_type": "code",
   "execution_count": 15,
   "metadata": {},
   "outputs": [],
   "source": [
    "#resNrt1"
   ]
  },
  {
   "cell_type": "code",
   "execution_count": 16,
   "metadata": {},
   "outputs": [],
   "source": [
    "#resNrt2"
   ]
  },
  {
   "cell_type": "code",
   "execution_count": 17,
   "metadata": {},
   "outputs": [],
   "source": [
    "#resNrt3"
   ]
  },
  {
   "cell_type": "code",
   "execution_count": 18,
   "metadata": {},
   "outputs": [],
   "source": [
    "#resNrt4"
   ]
  },
  {
   "cell_type": "code",
   "execution_count": 19,
   "metadata": {},
   "outputs": [],
   "source": [
    "#resNrt5"
   ]
  },
  {
   "cell_type": "markdown",
   "metadata": {},
   "source": [
    "# CÁLCULOS DAS MÉDIAS POR SEMESTRE"
   ]
  },
  {
   "cell_type": "markdown",
   "metadata": {},
   "source": [
    "# Região Norte"
   ]
  },
  {
   "cell_type": "code",
   "execution_count": 20,
   "metadata": {},
   "outputs": [],
   "source": [
    "dfResNrtSpd1 = pd.DataFrame()\n",
    "dfResNrtSpd1['S1 /2015'] = [resNrt1['2015_01'].mean(), resNrt1['2015_02'].mean(), resNrt1['2015_03'].mean(), resNrt1['2015_04'].mean(), resNrt1['2015_05'].mean(), resNrt1['2015_06'].mean()]\n",
    "dfResNrtSpd1['S2 /2015'] = [resNrt1['2015_07'].mean(), resNrt1['2015_08'].mean(), resNrt1['2015_09'].mean(), resNrt1['2015_10'].mean(), resNrt1['2015_11'].mean(), resNrt1['2015_12'].mean()]\n",
    "dfResNrtSpd1['S1 /2016'] = [resNrt1['2016_01'].mean(), resNrt1['2016_02'].mean(), resNrt1['2016_03'].mean(), resNrt1['2016_04'].mean(), resNrt1['2016_05'].mean(), resNrt1['2016_06'].mean()]\n",
    "dfResNrtSpd1['S2 /2016'] = [resNrt1['2016_07'].mean(), resNrt1['2016_08'].mean(), resNrt1['2016_09'].mean(), resNrt1['2016_10'].mean(), resNrt1['2016_11'].mean(), resNrt1['2016_12'].mean()]\n",
    "dfResNrtSpd1['S1 /2017'] = [resNrt1['2017_01'].mean(), resNrt1['2017_02'].mean(), resNrt1['2017_03'].mean(), resNrt1['2017_04'].mean(), resNrt1['2017_05'].mean(), resNrt1['2017_06'].mean()]\n",
    "dfResNrtSpd1['S2 /2017'] = [resNrt1['2017_07'].mean(), resNrt1['2017_08'].mean(), resNrt1['2017_09'].mean(), resNrt1['2017_10'].mean(), resNrt1['2017_11'].mean(), resNrt1['2017_12'].mean()]\n",
    "dfResNrtSpd1['S1 /2018'] = [resNrt1['2018_01'].mean(), resNrt1['2018_02'].mean(), resNrt1['2018_03'].mean(), resNrt1['2018_04'].mean(), resNrt1['2018_05'].mean(), resNrt1['2018_06'].mean()]\n",
    "dfResNrtSpd1['S2 /2018'] = [resNrt1['2018_07'].mean(), resNrt1['2018_08'].mean(), resNrt1['2018_09'].mean(), resNrt1['2018_10'].mean(), 0, 0]"
   ]
  },
  {
   "cell_type": "code",
   "execution_count": 21,
   "metadata": {},
   "outputs": [],
   "source": [
    "dfResNrtSpd2 = pd.DataFrame()\n",
    "dfResNrtSpd2['S1 /2015'] = [resNrt2['2015_01'].mean(), resNrt2['2015_02'].mean(), resNrt2['2015_03'].mean(), resNrt2['2015_04'].mean(), resNrt2['2015_05'].mean(), resNrt2['2015_06'].mean()]\n",
    "dfResNrtSpd2['S2 /2015'] = [resNrt2['2015_07'].mean(), resNrt2['2015_08'].mean(), resNrt2['2015_09'].mean(), resNrt2['2015_10'].mean(), resNrt2['2015_11'].mean(), resNrt2['2015_12'].mean()]\n",
    "dfResNrtSpd2['S1 /2016'] = [resNrt2['2016_01'].mean(), resNrt2['2016_02'].mean(), resNrt2['2016_03'].mean(), resNrt2['2016_04'].mean(), resNrt2['2016_05'].mean(), resNrt2['2016_06'].mean()]\n",
    "dfResNrtSpd2['S2 /2016'] = [resNrt2['2016_07'].mean(), resNrt2['2016_08'].mean(), resNrt2['2016_09'].mean(), resNrt2['2016_10'].mean(), resNrt2['2016_11'].mean(), resNrt2['2016_12'].mean()]\n",
    "dfResNrtSpd2['S1 /2017'] = [resNrt2['2017_01'].mean(), resNrt2['2017_02'].mean(), resNrt2['2017_03'].mean(), resNrt2['2017_04'].mean(), resNrt2['2017_05'].mean(), resNrt2['2017_06'].mean()]\n",
    "dfResNrtSpd2['S2 /2017'] = [resNrt2['2017_07'].mean(), resNrt2['2017_08'].mean(), resNrt2['2017_09'].mean(), resNrt2['2017_10'].mean(), resNrt2['2017_11'].mean(), resNrt2['2017_12'].mean()]\n",
    "dfResNrtSpd2['S1 /2018'] = [resNrt2['2018_01'].mean(), resNrt2['2018_02'].mean(), resNrt2['2018_03'].mean(), resNrt2['2018_04'].mean(), resNrt2['2018_05'].mean(), resNrt2['2018_06'].mean()]\n",
    "dfResNrtSpd2['S2 /2018'] = [resNrt2['2018_07'].mean(), resNrt2['2018_08'].mean(), resNrt2['2018_09'].mean(), resNrt2['2018_10'].mean(), 0, 0]"
   ]
  },
  {
   "cell_type": "code",
   "execution_count": 22,
   "metadata": {},
   "outputs": [],
   "source": [
    "dfResNrtSpd3 = pd.DataFrame()\n",
    "dfResNrtSpd3['S1 /2015'] = [resNrt3['2015_01'].mean(), resNrt3['2015_02'].mean(), resNrt3['2015_03'].mean(), resNrt3['2015_04'].mean(), resNrt3['2015_05'].mean(), resNrt3['2015_06'].mean()]\n",
    "dfResNrtSpd3['S2 /2015'] = [resNrt3['2015_07'].mean(), resNrt3['2015_08'].mean(), resNrt3['2015_09'].mean(), resNrt3['2015_10'].mean(), resNrt3['2015_11'].mean(), resNrt3['2015_12'].mean()]\n",
    "dfResNrtSpd3['S1 /2016'] = [resNrt3['2016_01'].mean(), resNrt3['2016_02'].mean(), resNrt3['2016_03'].mean(), resNrt3['2016_04'].mean(), resNrt3['2016_05'].mean(), resNrt3['2016_06'].mean()]\n",
    "dfResNrtSpd3['S2 /2016'] = [resNrt3['2016_07'].mean(), resNrt3['2016_08'].mean(), resNrt3['2016_09'].mean(), resNrt3['2016_10'].mean(), resNrt3['2016_11'].mean(), resNrt3['2016_12'].mean()]\n",
    "dfResNrtSpd3['S1 /2017'] = [resNrt3['2017_01'].mean(), resNrt3['2017_02'].mean(), resNrt3['2017_03'].mean(), resNrt3['2017_04'].mean(), resNrt3['2017_05'].mean(), resNrt3['2017_06'].mean()]\n",
    "dfResNrtSpd3['S2 /2017'] = [resNrt3['2017_07'].mean(), resNrt3['2017_08'].mean(), resNrt3['2017_09'].mean(), resNrt3['2017_10'].mean(), resNrt3['2017_11'].mean(), resNrt3['2017_12'].mean()]\n",
    "dfResNrtSpd3['S1 /2018'] = [resNrt3['2018_01'].mean(), resNrt3['2018_02'].mean(), resNrt3['2018_03'].mean(), resNrt3['2018_04'].mean(), resNrt3['2018_05'].mean(), resNrt3['2018_06'].mean()]\n",
    "dfResNrtSpd3['S2 /2018'] = [resNrt3['2018_07'].mean(), resNrt3['2018_08'].mean(), resNrt3['2018_09'].mean(), resNrt3['2018_10'].mean(), 0, 0]"
   ]
  },
  {
   "cell_type": "code",
   "execution_count": 23,
   "metadata": {},
   "outputs": [],
   "source": [
    "dfResNrtSpd4 = pd.DataFrame()\n",
    "dfResNrtSpd4['S1 /2015'] = [resNrt4['2015_01'].mean(), resNrt4['2015_02'].mean(), resNrt4['2015_03'].mean(), resNrt4['2015_04'].mean(), resNrt4['2015_05'].mean(), resNrt4['2015_06'].mean()]\n",
    "dfResNrtSpd4['S2 /2015'] = [resNrt4['2015_07'].mean(), resNrt4['2015_08'].mean(), resNrt4['2015_09'].mean(), resNrt4['2015_10'].mean(), resNrt4['2015_11'].mean(), resNrt4['2015_12'].mean()]\n",
    "dfResNrtSpd4['S1 /2016'] = [resNrt4['2016_01'].mean(), resNrt4['2016_02'].mean(), resNrt4['2016_03'].mean(), resNrt4['2016_04'].mean(), resNrt4['2016_05'].mean(), resNrt4['2016_06'].mean()]\n",
    "dfResNrtSpd4['S2 /2016'] = [resNrt4['2016_07'].mean(), resNrt4['2016_08'].mean(), resNrt4['2016_09'].mean(), resNrt4['2016_10'].mean(), resNrt4['2016_11'].mean(), resNrt4['2016_12'].mean()]\n",
    "dfResNrtSpd4['S1 /2017'] = [resNrt4['2017_01'].mean(), resNrt4['2017_02'].mean(), resNrt4['2017_03'].mean(), resNrt4['2017_04'].mean(), resNrt4['2017_05'].mean(), resNrt4['2017_06'].mean()]\n",
    "dfResNrtSpd4['S2 /2017'] = [resNrt4['2017_07'].mean(), resNrt4['2017_08'].mean(), resNrt4['2017_09'].mean(), resNrt4['2017_10'].mean(), resNrt4['2017_11'].mean(), resNrt4['2017_12'].mean()]\n",
    "dfResNrtSpd4['S1 /2018'] = [resNrt4['2018_01'].mean(), resNrt4['2018_02'].mean(), resNrt4['2018_03'].mean(), resNrt4['2018_04'].mean(), resNrt4['2018_05'].mean(), resNrt4['2018_06'].mean()]\n",
    "dfResNrtSpd4['S2 /2018'] = [resNrt4['2018_07'].mean(), resNrt4['2018_08'].mean(), resNrt4['2018_09'].mean(), resNrt4['2018_10'].mean(), 0, 0]"
   ]
  },
  {
   "cell_type": "code",
   "execution_count": 24,
   "metadata": {},
   "outputs": [],
   "source": [
    "dfResNrtSpd5 = pd.DataFrame()\n",
    "dfResNrtSpd5['S1 /2015'] = [resNrt5['2015_01'].mean(), resNrt5['2015_02'].mean(), resNrt5['2015_03'].mean(), resNrt5['2015_04'].mean(), resNrt5['2015_05'].mean(), resNrt5['2015_06'].mean()]\n",
    "dfResNrtSpd5['S2 /2015'] = [resNrt5['2015_07'].mean(), resNrt5['2015_08'].mean(), resNrt5['2015_09'].mean(), resNrt5['2015_10'].mean(), resNrt5['2015_11'].mean(), resNrt5['2015_12'].mean()]\n",
    "dfResNrtSpd5['S1 /2016'] = [resNrt5['2016_01'].mean(), resNrt5['2016_02'].mean(), resNrt5['2016_03'].mean(), resNrt5['2016_04'].mean(), resNrt5['2016_05'].mean(), resNrt5['2016_06'].mean()]\n",
    "dfResNrtSpd5['S2 /2016'] = [resNrt5['2016_07'].mean(), resNrt5['2016_08'].mean(), resNrt5['2016_09'].mean(), resNrt5['2016_10'].mean(), resNrt5['2016_11'].mean(), resNrt5['2016_12'].mean()]\n",
    "dfResNrtSpd5['S1 /2017'] = [resNrt5['2017_01'].mean(), resNrt5['2017_02'].mean(), resNrt5['2017_03'].mean(), resNrt5['2017_04'].mean(), resNrt5['2017_05'].mean(), resNrt5['2017_06'].mean()]\n",
    "dfResNrtSpd5['S2 /2017'] = [resNrt5['2017_07'].mean(), resNrt5['2017_08'].mean(), resNrt5['2017_09'].mean(), resNrt5['2017_10'].mean(), resNrt5['2017_11'].mean(), resNrt5['2017_12'].mean()]\n",
    "dfResNrtSpd5['S1 /2018'] = [resNrt5['2018_01'].mean(), resNrt5['2018_02'].mean(), resNrt5['2018_03'].mean(), resNrt5['2018_04'].mean(), resNrt5['2018_05'].mean(), resNrt5['2018_06'].mean()]\n",
    "dfResNrtSpd5['S2 /2018'] = [resNrt5['2018_07'].mean(), resNrt5['2018_08'].mean(), resNrt5['2018_09'].mean(), resNrt5['2018_10'].mean(), 0, 0]"
   ]
  },
  {
   "cell_type": "code",
   "execution_count": 25,
   "metadata": {
    "scrolled": true
   },
   "outputs": [
    {
     "data": {
      "text/html": [
       "<div>\n",
       "<style scoped>\n",
       "    .dataframe tbody tr th:only-of-type {\n",
       "        vertical-align: middle;\n",
       "    }\n",
       "\n",
       "    .dataframe tbody tr th {\n",
       "        vertical-align: top;\n",
       "    }\n",
       "\n",
       "    .dataframe thead th {\n",
       "        text-align: right;\n",
       "    }\n",
       "</style>\n",
       "<table border=\"1\" class=\"dataframe\">\n",
       "  <thead>\n",
       "    <tr style=\"text-align: right;\">\n",
       "      <th></th>\n",
       "      <th>S1 /2015</th>\n",
       "      <th>S2 /2015</th>\n",
       "      <th>S1 /2016</th>\n",
       "      <th>S2 /2016</th>\n",
       "      <th>S1 /2017</th>\n",
       "      <th>S2 /2017</th>\n",
       "      <th>S1 /2018</th>\n",
       "      <th>S2 /2018</th>\n",
       "    </tr>\n",
       "  </thead>\n",
       "  <tbody>\n",
       "    <tr>\n",
       "      <td>0</td>\n",
       "      <td>0.863156</td>\n",
       "      <td>0.817756</td>\n",
       "      <td>0.819600</td>\n",
       "      <td>0.802867</td>\n",
       "      <td>0.770489</td>\n",
       "      <td>0.744667</td>\n",
       "      <td>0.775089</td>\n",
       "      <td>0.778956</td>\n",
       "    </tr>\n",
       "    <tr>\n",
       "      <td>1</td>\n",
       "      <td>0.859756</td>\n",
       "      <td>0.823200</td>\n",
       "      <td>0.810156</td>\n",
       "      <td>0.804089</td>\n",
       "      <td>0.752467</td>\n",
       "      <td>0.733689</td>\n",
       "      <td>0.803756</td>\n",
       "      <td>0.766444</td>\n",
       "    </tr>\n",
       "    <tr>\n",
       "      <td>2</td>\n",
       "      <td>0.851089</td>\n",
       "      <td>0.840622</td>\n",
       "      <td>0.817244</td>\n",
       "      <td>0.787978</td>\n",
       "      <td>0.770467</td>\n",
       "      <td>0.741000</td>\n",
       "      <td>0.796267</td>\n",
       "      <td>0.749933</td>\n",
       "    </tr>\n",
       "    <tr>\n",
       "      <td>3</td>\n",
       "      <td>0.849556</td>\n",
       "      <td>0.804089</td>\n",
       "      <td>0.817822</td>\n",
       "      <td>0.779622</td>\n",
       "      <td>0.759911</td>\n",
       "      <td>0.750667</td>\n",
       "      <td>0.823511</td>\n",
       "      <td>0.748467</td>\n",
       "    </tr>\n",
       "    <tr>\n",
       "      <td>4</td>\n",
       "      <td>0.829978</td>\n",
       "      <td>0.792178</td>\n",
       "      <td>0.813422</td>\n",
       "      <td>0.776200</td>\n",
       "      <td>0.774133</td>\n",
       "      <td>0.785556</td>\n",
       "      <td>0.814422</td>\n",
       "      <td>0.000000</td>\n",
       "    </tr>\n",
       "    <tr>\n",
       "      <td>5</td>\n",
       "      <td>0.828156</td>\n",
       "      <td>0.817956</td>\n",
       "      <td>0.818600</td>\n",
       "      <td>0.755578</td>\n",
       "      <td>0.776578</td>\n",
       "      <td>0.780822</td>\n",
       "      <td>0.785644</td>\n",
       "      <td>0.000000</td>\n",
       "    </tr>\n",
       "  </tbody>\n",
       "</table>\n",
       "</div>"
      ],
      "text/plain": [
       "   S1 /2015  S2 /2015  S1 /2016  S2 /2016  S1 /2017  S2 /2017  S1 /2018  \\\n",
       "0  0.863156  0.817756  0.819600  0.802867  0.770489  0.744667  0.775089   \n",
       "1  0.859756  0.823200  0.810156  0.804089  0.752467  0.733689  0.803756   \n",
       "2  0.851089  0.840622  0.817244  0.787978  0.770467  0.741000  0.796267   \n",
       "3  0.849556  0.804089  0.817822  0.779622  0.759911  0.750667  0.823511   \n",
       "4  0.829978  0.792178  0.813422  0.776200  0.774133  0.785556  0.814422   \n",
       "5  0.828156  0.817956  0.818600  0.755578  0.776578  0.780822  0.785644   \n",
       "\n",
       "   S2 /2018  \n",
       "0  0.778956  \n",
       "1  0.766444  \n",
       "2  0.749933  \n",
       "3  0.748467  \n",
       "4  0.000000  \n",
       "5  0.000000  "
      ]
     },
     "execution_count": 25,
     "metadata": {},
     "output_type": "execute_result"
    }
   ],
   "source": [
    "dfResNrtSpd2"
   ]
  },
  {
   "cell_type": "code",
   "execution_count": 26,
   "metadata": {},
   "outputs": [],
   "source": [
    "dfFinalNrt1 = pd.DataFrame()\n",
    "dfFinalNrt1['Periodo'] = ['S1 /2015','S2 /2015', 'S1 /2016', 'S2 /2016', 'S1 /2017', 'S2 /2017', 'S1 /2018', 'S2 /2018']\n",
    "dfFinalNrt1['0kbps_a_512kbps'] = [dfResNrtSpd1['S1 /2015'].mean(), dfResNrtSpd1['S2 /2015'].mean(),\n",
    "                                  dfResNrtSpd1['S1 /2016'].mean(), dfResNrtSpd1['S2 /2016'].mean(),\n",
    "                                  dfResNrtSpd1['S1 /2017'].mean(), dfResNrtSpd1['S2 /2017'].mean(),\n",
    "                                  dfResNrtSpd1['S1 /2018'].mean(), dfResNrtSpd1['S2 /2018'].mean(),]"
   ]
  },
  {
   "cell_type": "code",
   "execution_count": 27,
   "metadata": {},
   "outputs": [],
   "source": [
    "dfFinalNrt2 = pd.DataFrame()\n",
    "dfFinalNrt2['Periodo'] = ['S1 /2015','S2 /2015', 'S1 /2016', 'S2 /2016', 'S1 /2017', 'S2 /2017', 'S1 /2018', 'S2 /2018']\n",
    "dfFinalNrt2['512kbps_a_2Mbps'] = [dfResNrtSpd2['S1 /2015'].mean(), dfResNrtSpd2['S2 /2015'].mean(),\n",
    "                                  dfResNrtSpd2['S1 /2016'].mean(), dfResNrtSpd2['S2 /2016'].mean(),\n",
    "                                  dfResNrtSpd2['S1 /2017'].mean(), dfResNrtSpd2['S2 /2017'].mean(),\n",
    "                                  dfResNrtSpd2['S1 /2018'].mean(), dfResNrtSpd2['S2 /2018'].mean(),]"
   ]
  },
  {
   "cell_type": "code",
   "execution_count": 28,
   "metadata": {},
   "outputs": [],
   "source": [
    "dfFinalNrt3 = pd.DataFrame()\n",
    "dfFinalNrt3['Periodo'] = ['S1 /2015','S2 /2015', 'S1 /2016', 'S2 /2016', 'S1 /2017', 'S2 /2017', 'S1 /2018', 'S2 /2018']\n",
    "dfFinalNrt3['2Mbps_a_12Mbps'] = [dfResNrtSpd3['S1 /2015'].mean(), dfResNrtSpd3['S2 /2015'].mean(),\n",
    "                                 dfResNrtSpd3['S1 /2016'].mean(), dfResNrtSpd3['S2 /2016'].mean(),\n",
    "                                 dfResNrtSpd3['S1 /2017'].mean(), dfResNrtSpd3['S2 /2017'].mean(),\n",
    "                                 dfResNrtSpd3['S1 /2018'].mean(), dfResNrtSpd3['S2 /2018'].mean(),]"
   ]
  },
  {
   "cell_type": "code",
   "execution_count": 29,
   "metadata": {},
   "outputs": [],
   "source": [
    "dfFinalNrt4 = pd.DataFrame()\n",
    "dfFinalNrt4['Periodo'] = ['S1 /2015','S2 /2015', 'S1 /2016', 'S2 /2016', 'S1 /2017', 'S2 /2017', 'S1 /2018', 'S2 /2018']\n",
    "dfFinalNrt4['12Mbps_a_34Mbps'] = [dfResNrtSpd4['S1 /2015'].mean(), dfResNrtSpd4['S2 /2015'].mean(),\n",
    "                                  dfResNrtSpd4['S1 /2016'].mean(), dfResNrtSpd4['S2 /2016'].mean(),\n",
    "                                  dfResNrtSpd4['S1 /2017'].mean(), dfResNrtSpd4['S2 /2017'].mean(),\n",
    "                                  dfResNrtSpd4['S1 /2018'].mean(), dfResNrtSpd4['S2 /2018'].mean(),]"
   ]
  },
  {
   "cell_type": "code",
   "execution_count": 30,
   "metadata": {},
   "outputs": [],
   "source": [
    "dfFinalNrt5 = pd.DataFrame()\n",
    "dfFinalNrt5['Periodo'] = ['S1 /2015','S2 /2015', 'S1 /2016', 'S2 /2016', 'S1 /2017', 'S2 /2017', 'S1 /2018', 'S2 /2018']\n",
    "dfFinalNrt5['>_34Mbps'] = [dfResNrtSpd5['S1 /2015'].mean(), dfResNrtSpd5['S2 /2015'].mean(),\n",
    "                           dfResNrtSpd5['S1 /2016'].mean(), dfResNrtSpd5['S2 /2016'].mean(),\n",
    "                           dfResNrtSpd5['S1 /2017'].mean(), dfResNrtSpd5['S2 /2017'].mean(),\n",
    "                           dfResNrtSpd5['S1 /2018'].mean(), dfResNrtSpd5['S2 /2018'].mean(),]"
   ]
  },
  {
   "cell_type": "code",
   "execution_count": 31,
   "metadata": {},
   "outputs": [
    {
     "data": {
      "text/plain": [
       "<matplotlib.axes._subplots.AxesSubplot at 0x7efd636b5850>"
      ]
     },
     "execution_count": 31,
     "metadata": {},
     "output_type": "execute_result"
    },
    {
     "data": {
      "image/png": "[encoded data removed]",
      "text/plain": [
       "<Figure size 432x288 with 1 Axes>"
      ]
     },
     "metadata": {
      "needs_background": "light"
     },
     "output_type": "display_data"
    }
   ],
   "source": [
    "dfFinalNrt1.plot(color = 'olive', x = 'Periodo')"
   ]
  },
  {
   "cell_type": "markdown",
   "metadata": {},
   "source": [
    "# Região Sul"
   ]
  },
  {
   "cell_type": "code",
   "execution_count": 32,
   "metadata": {},
   "outputs": [],
   "source": [
    "dfResSulSpd1 = pd.DataFrame()\n",
    "dfResSulSpd1['S1 /2015'] = [resSul1['2015_01'].mean(), resSul1['2015_02'].mean(), resSul1['2015_03'].mean(), resSul1['2015_04'].mean(), resSul1['2015_05'].mean(), resSul1['2015_06'].mean()]\n",
    "dfResSulSpd1['S2 /2015'] = [resSul1['2015_07'].mean(), resSul1['2015_08'].mean(), resSul1['2015_09'].mean(), resSul1['2015_10'].mean(), resSul1['2015_11'].mean(), resSul1['2015_12'].mean()]\n",
    "dfResSulSpd1['S1 /2016'] = [resSul1['2016_01'].mean(), resSul1['2016_02'].mean(), resSul1['2016_03'].mean(), resSul1['2016_04'].mean(), resSul1['2016_05'].mean(), resSul1['2016_06'].mean()]\n",
    "dfResSulSpd1['S2 /2016'] = [resSul1['2016_07'].mean(), resSul1['2016_08'].mean(), resSul1['2016_09'].mean(), resSul1['2016_10'].mean(), resSul1['2016_11'].mean(), resSul1['2016_12'].mean()]\n",
    "dfResSulSpd1['S1 /2017'] = [resSul1['2017_01'].mean(), resSul1['2017_02'].mean(), resSul1['2017_03'].mean(), resSul1['2017_04'].mean(), resSul1['2017_05'].mean(), resSul1['2017_06'].mean()]\n",
    "dfResSulSpd1['S2 /2017'] = [resSul1['2017_07'].mean(), resSul1['2017_08'].mean(), resSul1['2017_09'].mean(), resSul1['2017_10'].mean(), resSul1['2017_11'].mean(), resSul1['2017_12'].mean()]\n",
    "dfResSulSpd1['S1 /2018'] = [resSul1['2018_01'].mean(), resSul1['2018_02'].mean(), resSul1['2018_03'].mean(), resSul1['2018_04'].mean(), resSul1['2018_05'].mean(), resSul1['2018_06'].mean()]\n",
    "dfResSulSpd1['S2 /2018'] = [resSul1['2018_07'].mean(), resSul1['2018_08'].mean(), resSul1['2018_09'].mean(), resSul1['2018_10'].mean(), 0, 0]"
   ]
  },
  {
   "cell_type": "code",
   "execution_count": 33,
   "metadata": {},
   "outputs": [],
   "source": [
    "dfResSulSpd2 = pd.DataFrame()\n",
    "dfResSulSpd2['S1 /2015'] = [resSul2['2015_01'].mean(), resSul2['2015_02'].mean(), resSul2['2015_03'].mean(), resSul2['2015_04'].mean(), resSul2['2015_05'].mean(), resSul2['2015_06'].mean()]\n",
    "dfResSulSpd2['S2 /2015'] = [resSul2['2015_07'].mean(), resSul2['2015_08'].mean(), resSul2['2015_09'].mean(), resSul2['2015_10'].mean(), resSul2['2015_11'].mean(), resSul2['2015_12'].mean()]\n",
    "dfResSulSpd2['S1 /2016'] = [resSul2['2016_01'].mean(), resSul2['2016_02'].mean(), resSul2['2016_03'].mean(), resSul2['2016_04'].mean(), resSul2['2016_05'].mean(), resSul2['2016_06'].mean()]\n",
    "dfResSulSpd2['S2 /2016'] = [resSul2['2016_07'].mean(), resSul2['2016_08'].mean(), resSul2['2016_09'].mean(), resSul2['2016_10'].mean(), resSul2['2016_11'].mean(), resSul2['2016_12'].mean()]\n",
    "dfResSulSpd2['S1 /2017'] = [resSul2['2017_01'].mean(), resSul2['2017_02'].mean(), resSul2['2017_03'].mean(), resSul2['2017_04'].mean(), resSul2['2017_05'].mean(), resSul2['2017_06'].mean()]\n",
    "dfResSulSpd2['S2 /2017'] = [resSul2['2017_07'].mean(), resSul2['2017_08'].mean(), resSul2['2017_09'].mean(), resSul2['2017_10'].mean(), resSul2['2017_11'].mean(), resSul2['2017_12'].mean()]\n",
    "dfResSulSpd2['S1 /2018'] = [resSul2['2018_01'].mean(), resSul2['2018_02'].mean(), resSul2['2018_03'].mean(), resSul2['2018_04'].mean(), resSul2['2018_05'].mean(), resSul2['2018_06'].mean()]\n",
    "dfResSulSpd2['S2 /2018'] = [resSul2['2018_07'].mean(), resSul2['2018_08'].mean(), resSul2['2018_09'].mean(), resSul2['2018_10'].mean(), 0, 0]"
   ]
  },
  {
   "cell_type": "code",
   "execution_count": 34,
   "metadata": {},
   "outputs": [],
   "source": [
    "dfResSulSpd3 = pd.DataFrame()\n",
    "dfResSulSpd3['S1 /2015'] = [resSul3['2015_01'].mean(), resSul3['2015_02'].mean(), resSul3['2015_03'].mean(), resSul3['2015_04'].mean(), resSul3['2015_05'].mean(), resSul3['2015_06'].mean()]\n",
    "dfResSulSpd3['S2 /2015'] = [resSul3['2015_07'].mean(), resSul3['2015_08'].mean(), resSul3['2015_09'].mean(), resSul3['2015_10'].mean(), resSul3['2015_11'].mean(), resSul3['2015_12'].mean()]\n",
    "dfResSulSpd3['S1 /2016'] = [resSul3['2016_01'].mean(), resSul3['2016_02'].mean(), resSul3['2016_03'].mean(), resSul3['2016_04'].mean(), resSul3['2016_05'].mean(), resSul3['2016_06'].mean()]\n",
    "dfResSulSpd3['S2 /2016'] = [resSul3['2016_07'].mean(), resSul3['2016_08'].mean(), resSul3['2016_09'].mean(), resSul3['2016_10'].mean(), resSul3['2016_11'].mean(), resSul3['2016_12'].mean()]\n",
    "dfResSulSpd3['S1 /2017'] = [resSul3['2017_01'].mean(), resSul3['2017_02'].mean(), resSul3['2017_03'].mean(), resSul3['2017_04'].mean(), resSul3['2017_05'].mean(), resSul3['2017_06'].mean()]\n",
    "dfResSulSpd3['S2 /2017'] = [resSul3['2017_07'].mean(), resSul3['2017_08'].mean(), resSul3['2017_09'].mean(), resSul3['2017_10'].mean(), resSul3['2017_11'].mean(), resSul3['2017_12'].mean()]\n",
    "dfResSulSpd3['S1 /2018'] = [resSul3['2018_01'].mean(), resSul3['2018_02'].mean(), resSul3['2018_03'].mean(), resSul3['2018_04'].mean(), resSul3['2018_05'].mean(), resSul3['2018_06'].mean()]\n",
    "dfResSulSpd3['S2 /2018'] = [resSul3['2018_07'].mean(), resSul3['2018_08'].mean(), resSul3['2018_09'].mean(), resSul3['2018_10'].mean(), 0, 0]"
   ]
  },
  {
   "cell_type": "code",
   "execution_count": 35,
   "metadata": {},
   "outputs": [],
   "source": [
    "dfResSulSpd4 = pd.DataFrame()\n",
    "dfResSulSpd4['S1 /2015'] = [resSul4['2015_01'].mean(), resSul4['2015_02'].mean(), resSul4['2015_03'].mean(), resSul4['2015_04'].mean(), resSul4['2015_05'].mean(), resSul4['2015_06'].mean()]\n",
    "dfResSulSpd4['S2 /2015'] = [resSul4['2015_07'].mean(), resSul4['2015_08'].mean(), resSul4['2015_09'].mean(), resSul4['2015_10'].mean(), resSul4['2015_11'].mean(), resSul4['2015_12'].mean()]\n",
    "dfResSulSpd4['S1 /2016'] = [resSul4['2016_01'].mean(), resSul4['2016_02'].mean(), resSul4['2016_03'].mean(), resSul4['2016_04'].mean(), resSul4['2016_05'].mean(), resSul4['2016_06'].mean()]\n",
    "dfResSulSpd4['S2 /2016'] = [resSul4['2016_07'].mean(), resSul4['2016_08'].mean(), resSul4['2016_09'].mean(), resSul4['2016_10'].mean(), resSul4['2016_11'].mean(), resSul4['2016_12'].mean()]\n",
    "dfResSulSpd4['S1 /2017'] = [resSul4['2017_01'].mean(), resSul4['2017_02'].mean(), resSul4['2017_03'].mean(), resSul4['2017_04'].mean(), resSul4['2017_05'].mean(), resSul4['2017_06'].mean()]\n",
    "dfResSulSpd4['S2 /2017'] = [resSul4['2017_07'].mean(), resSul4['2017_08'].mean(), resSul4['2017_09'].mean(), resSul4['2017_10'].mean(), resSul4['2017_11'].mean(), resSul4['2017_12'].mean()]\n",
    "dfResSulSpd4['S1 /2018'] = [resSul4['2018_01'].mean(), resSul4['2018_02'].mean(), resSul4['2018_03'].mean(), resSul4['2018_04'].mean(), resSul4['2018_05'].mean(), resSul4['2018_06'].mean()]\n",
    "dfResSulSpd4['S2 /2018'] = [resSul4['2018_07'].mean(), resSul4['2018_08'].mean(), resSul4['2018_09'].mean(), resSul4['2018_10'].mean(), 0, 0]"
   ]
  },
  {
   "cell_type": "code",
   "execution_count": 36,
   "metadata": {},
   "outputs": [],
   "source": [
    "dfResSulSpd5 = pd.DataFrame()\n",
    "dfResSulSpd5['S1 /2015'] = [resSul5['2015_01'].mean(), resSul5['2015_02'].mean(), resSul5['2015_03'].mean(), resSul5['2015_04'].mean(), resSul5['2015_05'].mean(), resSul5['2015_06'].mean()]\n",
    "dfResSulSpd5['S2 /2015'] = [resSul5['2015_07'].mean(), resSul5['2015_08'].mean(), resSul5['2015_09'].mean(), resSul5['2015_10'].mean(), resSul5['2015_11'].mean(), resSul5['2015_12'].mean()]\n",
    "dfResSulSpd5['S1 /2016'] = [resSul5['2016_01'].mean(), resSul5['2016_02'].mean(), resSul5['2016_03'].mean(), resSul5['2016_04'].mean(), resSul5['2016_05'].mean(), resSul5['2016_06'].mean()]\n",
    "dfResSulSpd5['S2 /2016'] = [resSul5['2016_07'].mean(), resSul5['2016_08'].mean(), resSul5['2016_09'].mean(), resSul5['2016_10'].mean(), resSul5['2016_11'].mean(), resSul5['2016_12'].mean()]\n",
    "dfResSulSpd5['S1 /2017'] = [resSul5['2017_01'].mean(), resSul5['2017_02'].mean(), resSul5['2017_03'].mean(), resSul5['2017_04'].mean(), resSul5['2017_05'].mean(), resSul5['2017_06'].mean()]\n",
    "dfResSulSpd5['S2 /2017'] = [resSul5['2017_07'].mean(), resSul5['2017_08'].mean(), resSul5['2017_09'].mean(), resSul5['2017_10'].mean(), resSul5['2017_11'].mean(), resSul5['2017_12'].mean()]\n",
    "dfResSulSpd5['S1 /2018'] = [resSul5['2018_01'].mean(), resSul5['2018_02'].mean(), resSul5['2018_03'].mean(), resSul5['2018_04'].mean(), resSul5['2018_05'].mean(), resSul5['2018_06'].mean()]\n",
    "dfResSulSpd5['S2 /2018'] = [resSul5['2018_07'].mean(), resSul5['2018_08'].mean(), resSul5['2018_09'].mean(), resSul5['2018_10'].mean(), 0, 0]"
   ]
  },
  {
   "cell_type": "code",
   "execution_count": 37,
   "metadata": {},
   "outputs": [
    {
     "data": {
      "text/html": [
       "<div>\n",
       "<style scoped>\n",
       "    .dataframe tbody tr th:only-of-type {\n",
       "        vertical-align: middle;\n",
       "    }\n",
       "\n",
       "    .dataframe tbody tr th {\n",
       "        vertical-align: top;\n",
       "    }\n",
       "\n",
       "    .dataframe thead th {\n",
       "        text-align: right;\n",
       "    }\n",
       "</style>\n",
       "<table border=\"1\" class=\"dataframe\">\n",
       "  <thead>\n",
       "    <tr style=\"text-align: right;\">\n",
       "      <th></th>\n",
       "      <th>S1 /2015</th>\n",
       "      <th>S2 /2015</th>\n",
       "      <th>S1 /2016</th>\n",
       "      <th>S2 /2016</th>\n",
       "      <th>S1 /2017</th>\n",
       "      <th>S2 /2017</th>\n",
       "      <th>S1 /2018</th>\n",
       "      <th>S2 /2018</th>\n",
       "    </tr>\n",
       "  </thead>\n",
       "  <tbody>\n",
       "    <tr>\n",
       "      <td>0</td>\n",
       "      <td>1.070462</td>\n",
       "      <td>1.200756</td>\n",
       "      <td>1.093126</td>\n",
       "      <td>1.163580</td>\n",
       "      <td>1.169412</td>\n",
       "      <td>1.367370</td>\n",
       "      <td>1.467689</td>\n",
       "      <td>1.002462</td>\n",
       "    </tr>\n",
       "    <tr>\n",
       "      <td>1</td>\n",
       "      <td>1.135252</td>\n",
       "      <td>1.238647</td>\n",
       "      <td>1.136067</td>\n",
       "      <td>1.188345</td>\n",
       "      <td>1.188664</td>\n",
       "      <td>1.328143</td>\n",
       "      <td>1.458412</td>\n",
       "      <td>0.710345</td>\n",
       "    </tr>\n",
       "    <tr>\n",
       "      <td>2</td>\n",
       "      <td>1.129756</td>\n",
       "      <td>1.306630</td>\n",
       "      <td>1.120966</td>\n",
       "      <td>1.177588</td>\n",
       "      <td>1.308874</td>\n",
       "      <td>1.359134</td>\n",
       "      <td>1.492874</td>\n",
       "      <td>0.517471</td>\n",
       "    </tr>\n",
       "    <tr>\n",
       "      <td>3</td>\n",
       "      <td>1.127790</td>\n",
       "      <td>1.353563</td>\n",
       "      <td>1.120185</td>\n",
       "      <td>1.205403</td>\n",
       "      <td>1.323042</td>\n",
       "      <td>1.370908</td>\n",
       "      <td>1.774143</td>\n",
       "      <td>0.413109</td>\n",
       "    </tr>\n",
       "    <tr>\n",
       "      <td>4</td>\n",
       "      <td>1.186866</td>\n",
       "      <td>1.280513</td>\n",
       "      <td>1.157521</td>\n",
       "      <td>1.210403</td>\n",
       "      <td>1.278950</td>\n",
       "      <td>1.383899</td>\n",
       "      <td>1.651202</td>\n",
       "      <td>0.000000</td>\n",
       "    </tr>\n",
       "    <tr>\n",
       "      <td>5</td>\n",
       "      <td>1.188118</td>\n",
       "      <td>1.341790</td>\n",
       "      <td>1.120504</td>\n",
       "      <td>1.307319</td>\n",
       "      <td>1.437345</td>\n",
       "      <td>1.180681</td>\n",
       "      <td>1.642185</td>\n",
       "      <td>0.000000</td>\n",
       "    </tr>\n",
       "  </tbody>\n",
       "</table>\n",
       "</div>"
      ],
      "text/plain": [
       "   S1 /2015  S2 /2015  S1 /2016  S2 /2016  S1 /2017  S2 /2017  S1 /2018  \\\n",
       "0  1.070462  1.200756  1.093126  1.163580  1.169412  1.367370  1.467689   \n",
       "1  1.135252  1.238647  1.136067  1.188345  1.188664  1.328143  1.458412   \n",
       "2  1.129756  1.306630  1.120966  1.177588  1.308874  1.359134  1.492874   \n",
       "3  1.127790  1.353563  1.120185  1.205403  1.323042  1.370908  1.774143   \n",
       "4  1.186866  1.280513  1.157521  1.210403  1.278950  1.383899  1.651202   \n",
       "5  1.188118  1.341790  1.120504  1.307319  1.437345  1.180681  1.642185   \n",
       "\n",
       "   S2 /2018  \n",
       "0  1.002462  \n",
       "1  0.710345  \n",
       "2  0.517471  \n",
       "3  0.413109  \n",
       "4  0.000000  \n",
       "5  0.000000  "
      ]
     },
     "execution_count": 37,
     "metadata": {},
     "output_type": "execute_result"
    }
   ],
   "source": [
    "dfResSulSpd1"
   ]
  },
  {
   "cell_type": "code",
   "execution_count": 38,
   "metadata": {},
   "outputs": [],
   "source": [
    "dfFinalSul1 = pd.DataFrame()\n",
    "dfFinalSul1['Periodo'] = ['S1 /2015','S2 /2015', 'S1 /2016', 'S2 /2016', 'S1 /2017', 'S2 /2017', 'S1 /2018', 'S2 /2018']\n",
    "dfFinalSul1['0kbps_a_512kbps'] = [dfResSulSpd1['S1 /2015'].mean(), dfResSulSpd1['S2 /2015'].mean(),\n",
    "                                  dfResSulSpd1['S1 /2016'].mean(), dfResSulSpd1['S2 /2016'].mean(),\n",
    "                                  dfResSulSpd1['S1 /2017'].mean(), dfResSulSpd1['S2 /2017'].mean(),\n",
    "                                  dfResSulSpd1['S1 /2018'].mean(), dfResSulSpd1['S2 /2018'].mean(),]"
   ]
  },
  {
   "cell_type": "code",
   "execution_count": 39,
   "metadata": {},
   "outputs": [],
   "source": [
    "dfFinalSul2 = pd.DataFrame()\n",
    "dfFinalSul2['Periodo'] = ['S1 /2015','S2 /2015', 'S1 /2016', 'S2 /2016', 'S1 /2017', 'S2 /2017', 'S1 /2018', 'S2 /2018']\n",
    "dfFinalSul2['512kbps_a_2Mbps'] = [dfResSulSpd2['S1 /2015'].mean(), dfResSulSpd2['S2 /2015'].mean(),\n",
    "                                  dfResSulSpd2['S1 /2016'].mean(), dfResSulSpd2['S2 /2016'].mean(),\n",
    "                                  dfResSulSpd2['S1 /2017'].mean(), dfResSulSpd2['S2 /2017'].mean(),\n",
    "                                  dfResSulSpd2['S1 /2018'].mean(), dfResSulSpd2['S2 /2018'].mean(),]"
   ]
  },
  {
   "cell_type": "code",
   "execution_count": 40,
   "metadata": {},
   "outputs": [],
   "source": [
    "dfFinalSul3 = pd.DataFrame()\n",
    "dfFinalSul3['Periodo'] = ['S1 /2015','S2 /2015', 'S1 /2016', 'S2 /2016', 'S1 /2017', 'S2 /2017', 'S1 /2018', 'S2 /2018']\n",
    "dfFinalSul3['2Mbps_a_12Mbps'] = [dfResSulSpd3['S1 /2015'].mean(), dfResSulSpd3['S2 /2015'].mean(),\n",
    "                                  dfResSulSpd3['S1 /2016'].mean(), dfResSulSpd3['S2 /2016'].mean(),\n",
    "                                  dfResSulSpd3['S1 /2017'].mean(), dfResSulSpd3['S2 /2017'].mean(),\n",
    "                                  dfResSulSpd3['S1 /2018'].mean(), dfResSulSpd3['S2 /2018'].mean(),]"
   ]
  },
  {
   "cell_type": "code",
   "execution_count": 41,
   "metadata": {},
   "outputs": [],
   "source": [
    "dfFinalSul4 = pd.DataFrame()\n",
    "dfFinalSul4['Periodo'] = ['S1 /2015','S2 /2015', 'S1 /2016', 'S2 /2016', 'S1 /2017', 'S2 /2017', 'S1 /2018', 'S2 /2018']\n",
    "dfFinalSul4['12Mbps_a_34Mbps'] = [dfResSulSpd4['S1 /2015'].mean(), dfResSulSpd4['S2 /2015'].mean(),\n",
    "                                  dfResSulSpd4['S1 /2016'].mean(), dfResSulSpd4['S2 /2016'].mean(),\n",
    "                                  dfResSulSpd4['S1 /2017'].mean(), dfResSulSpd4['S2 /2017'].mean(),\n",
    "                                  dfResSulSpd4['S1 /2018'].mean(), dfResSulSpd4['S2 /2018'].mean(),]"
   ]
  },
  {
   "cell_type": "code",
   "execution_count": 42,
   "metadata": {},
   "outputs": [],
   "source": [
    "dfFinalSul5 = pd.DataFrame()\n",
    "dfFinalSul5['Periodo'] = ['S1 /2015','S2 /2015', 'S1 /2016', 'S2 /2016', 'S1 /2017', 'S2 /2017', 'S1 /2018', 'S2 /2018']\n",
    "dfFinalSul5['>_34Mbps'] = [dfResSulSpd5['S1 /2015'].mean(), dfResSulSpd5['S2 /2015'].mean(),\n",
    "                           dfResSulSpd5['S1 /2016'].mean(), dfResSulSpd5['S2 /2016'].mean(),\n",
    "                           dfResSulSpd5['S1 /2017'].mean(), dfResSulSpd5['S2 /2017'].mean(),\n",
    "                           dfResSulSpd5['S1 /2018'].mean(), dfResSulSpd5['S2 /2018'].mean(),]"
   ]
  },
  {
   "cell_type": "code",
   "execution_count": 43,
   "metadata": {},
   "outputs": [
    {
     "data": {
      "text/plain": [
       "<matplotlib.axes._subplots.AxesSubplot at 0x7efd6327bad0>"
      ]
     },
     "execution_count": 43,
     "metadata": {},
     "output_type": "execute_result"
    },
    {
     "data": {
      "image/png": "[encoded data removed]",
      "text/plain": [
       "<Figure size 432x288 with 1 Axes>"
      ]
     },
     "metadata": {
      "needs_background": "light"
     },
     "output_type": "display_data"
    }
   ],
   "source": [
    "dfFinalSul5.plot(color = 'olive', x = 'Periodo')"
   ]
  },
  {
   "cell_type": "markdown",
   "metadata": {},
   "source": [
    "# GRÁFICO FINAL"
   ]
  },
  {
   "cell_type": "markdown",
   "metadata": {},
   "source": [
    "# Região Norte"
   ]
  },
  {
   "cell_type": "code",
   "execution_count": 44,
   "metadata": {
    "scrolled": true
   },
   "outputs": [
    {
     "data": {
      "text/plain": [
       "(0, 4)"
      ]
     },
     "execution_count": 44,
     "metadata": {},
     "output_type": "execute_result"
    },
    {
     "data": {
      "image/png": "[encoded data removed]",
      "text/plain": [
       "<Figure size 432x288 with 1 Axes>"
      ]
     },
     "metadata": {
      "needs_background": "light"
     },
     "output_type": "display_data"
    }
   ],
   "source": [
    "ax = dfFinalNrt1.plot(kind = 'line', x = 'Periodo', y = '0kbps_a_512kbps', color = 'olive')\n",
    "dfFinalNrt2.plot(kind = 'line', x = 'Periodo', y = '512kbps_a_2Mbps', color = 'skyblue', ax = ax)\n",
    "dfFinalNrt3.plot(kind = 'line', x = 'Periodo', y = '2Mbps_a_12Mbps', color = 'grey', ax = ax)\n",
    "dfFinalNrt4.plot(kind = 'line', x = 'Periodo', y = '12Mbps_a_34Mbps', color = 'yellow', ax = ax)\n",
    "dfFinalNrt5.plot(kind = 'line', x = 'Periodo', y = '>_34Mbps', color = 'red', ax = ax)\n",
    "axes = plt.gca()\n",
    "axes.set_ylim([0,4])"
   ]
  },
  {
   "cell_type": "markdown",
   "metadata": {},
   "source": [
    "# Região Sul"
   ]
  },
  {
   "cell_type": "code",
   "execution_count": 50,
   "metadata": {},
   "outputs": [
    {
     "data": {
      "text/plain": [
       "(0, 4)"
      ]
     },
     "execution_count": 50,
     "metadata": {},
     "output_type": "execute_result"
    },
    {
     "data": {
      "image/png": "[encoded data removed]",
      "text/plain": [
       "<Figure size 432x288 with 1 Axes>"
      ]
     },
     "metadata": {
      "needs_background": "light"
     },
     "output_type": "display_data"
    }
   ],
   "source": [
    "ax = dfFinalSul1.plot(kind = 'line', x = 'Periodo', y = '0kbps_a_512kbps', color = 'olive')\n",
    "dfFinalSul2.plot(kind = 'line', x = 'Periodo', y = '512kbps_a_2Mbps', color = 'skyblue', ax = ax)\n",
    "dfFinalSul3.plot(kind = 'line', x = 'Periodo', y = '2Mbps_a_12Mbps', color = 'grey', ax = ax)\n",
    "dfFinalSul4.plot(kind = 'line', x = 'Periodo', y = '12Mbps_a_34Mbps', color = 'yellow', ax = ax)\n",
    "dfFinalSul5.plot(kind = 'line', x = 'Periodo', y = '>_34Mbps', color = 'red', ax = ax)\n",
    "axes = plt.gca()\n",
    "axes.set_ylim([0,4])\n"
   ]
  },
  {
   "cell_type": "code",
   "execution_count": null,
   "metadata": {},
   "outputs": [],
   "source": []
  }
 ],
 "metadata": {
  "kernelspec": {
   "display_name": "Python 3",
   "language": "python",
   "name": "python3"
  },
  "language_info": {
   "codemirror_mode": {
    "name": "ipython",
    "version": 3
   },
   "file_extension": ".py",
   "mimetype": "text/x-python",
   "name": "python",
   "nbconvert_exporter": "python",
   "pygments_lexer": "ipython3",
   "version": "3.7.4"
  }
 },
 "nbformat": 4,
 "nbformat_minor": 2
}
