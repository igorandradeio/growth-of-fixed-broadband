{
 "cells": [
  {
   "cell_type": "markdown",
   "metadata": {},
   "source": [
    "# Growth of fixed broadband internet speeds: A Comparative Study of Brazilian States."
   ]
  },
  {
   "cell_type": "code",
   "execution_count": 1282,
   "metadata": {},
   "outputs": [],
   "source": [
    "import pandas as pd\n",
    "import matplotlib\n",
    "import matplotlib.pyplot as plt\n",
    "import numpy as np"
   ]
  },
  {
   "cell_type": "code",
   "execution_count": 1283,
   "metadata": {},
   "outputs": [],
   "source": [
    "data = pd.read_csv(\"data.csv\")"
   ]
  },
  {
   "cell_type": "code",
   "execution_count": 1284,
   "metadata": {
    "scrolled": false
   },
   "outputs": [
    {
     "data": {
      "text/html": [
       "<div>\n",
       "<style scoped>\n",
       "    .dataframe tbody tr th:only-of-type {\n",
       "        vertical-align: middle;\n",
       "    }\n",
       "\n",
       "    .dataframe tbody tr th {\n",
       "        vertical-align: top;\n",
       "    }\n",
       "\n",
       "    .dataframe thead th {\n",
       "        text-align: right;\n",
       "    }\n",
       "</style>\n",
       "<table border=\"1\" class=\"dataframe\">\n",
       "  <thead>\n",
       "    <tr style=\"text-align: right;\">\n",
       "      <th></th>\n",
       "      <th>Cod_Municipio</th>\n",
       "      <th>Municipio</th>\n",
       "      <th>UF</th>\n",
       "      <th>Regiao</th>\n",
       "      <th>Faixa</th>\n",
       "      <th>2015_01</th>\n",
       "      <th>2015_02</th>\n",
       "      <th>2015_03</th>\n",
       "      <th>2015_04</th>\n",
       "      <th>2015_05</th>\n",
       "      <th>...</th>\n",
       "      <th>2018_01</th>\n",
       "      <th>2018_02</th>\n",
       "      <th>2018_03</th>\n",
       "      <th>2018_04</th>\n",
       "      <th>2018_05</th>\n",
       "      <th>2018_06</th>\n",
       "      <th>2018_07</th>\n",
       "      <th>2018_08</th>\n",
       "      <th>2018_09</th>\n",
       "      <th>2018_10</th>\n",
       "    </tr>\n",
       "  </thead>\n",
       "  <tbody>\n",
       "    <tr>\n",
       "      <td>0</td>\n",
       "      <td>1100015</td>\n",
       "      <td>ALTA_FLORESTA_D_OESTE</td>\n",
       "      <td>RO</td>\n",
       "      <td>NORTE</td>\n",
       "      <td>0kbps_a_512kbps</td>\n",
       "      <td>0.13</td>\n",
       "      <td>0.12</td>\n",
       "      <td>0.10</td>\n",
       "      <td>0.13</td>\n",
       "      <td>0.11</td>\n",
       "      <td>...</td>\n",
       "      <td>0.24</td>\n",
       "      <td>0.26</td>\n",
       "      <td>0.25</td>\n",
       "      <td>0.59</td>\n",
       "      <td>0.59</td>\n",
       "      <td>0.60</td>\n",
       "      <td>0.66</td>\n",
       "      <td>0.65</td>\n",
       "      <td>0.66</td>\n",
       "      <td>0.65</td>\n",
       "    </tr>\n",
       "    <tr>\n",
       "      <td>1</td>\n",
       "      <td>1100015</td>\n",
       "      <td>ALTA_FLORESTA_D_OSTE</td>\n",
       "      <td>RO</td>\n",
       "      <td>NORTE</td>\n",
       "      <td>12Mbps_a_34Mbps</td>\n",
       "      <td>0.01</td>\n",
       "      <td>0.01</td>\n",
       "      <td>0.01</td>\n",
       "      <td>0.01</td>\n",
       "      <td>0.02</td>\n",
       "      <td>...</td>\n",
       "      <td>0.20</td>\n",
       "      <td>0.20</td>\n",
       "      <td>0.21</td>\n",
       "      <td>0.22</td>\n",
       "      <td>0.18</td>\n",
       "      <td>0.18</td>\n",
       "      <td>0.19</td>\n",
       "      <td>0.20</td>\n",
       "      <td>0.20</td>\n",
       "      <td>0.19</td>\n",
       "    </tr>\n",
       "    <tr>\n",
       "      <td>2</td>\n",
       "      <td>1100015</td>\n",
       "      <td>ALTA_FLORESTA_D_OESTE</td>\n",
       "      <td>RO</td>\n",
       "      <td>NORTE</td>\n",
       "      <td>2Mbps_a_12Mbps</td>\n",
       "      <td>0.68</td>\n",
       "      <td>0.73</td>\n",
       "      <td>0.76</td>\n",
       "      <td>0.80</td>\n",
       "      <td>0.88</td>\n",
       "      <td>...</td>\n",
       "      <td>1.07</td>\n",
       "      <td>1.07</td>\n",
       "      <td>1.07</td>\n",
       "      <td>1.09</td>\n",
       "      <td>1.09</td>\n",
       "      <td>1.11</td>\n",
       "      <td>1.50</td>\n",
       "      <td>1.32</td>\n",
       "      <td>1.27</td>\n",
       "      <td>1.64</td>\n",
       "    </tr>\n",
       "    <tr>\n",
       "      <td>3</td>\n",
       "      <td>1100015</td>\n",
       "      <td>ALTA_FLORESTA_D_OESTE</td>\n",
       "      <td>RO</td>\n",
       "      <td>NORTE</td>\n",
       "      <td>512kbps_a_2Mbps</td>\n",
       "      <td>1.38</td>\n",
       "      <td>1.37</td>\n",
       "      <td>1.36</td>\n",
       "      <td>1.35</td>\n",
       "      <td>1.33</td>\n",
       "      <td>...</td>\n",
       "      <td>1.50</td>\n",
       "      <td>1.54</td>\n",
       "      <td>1.56</td>\n",
       "      <td>2.31</td>\n",
       "      <td>2.19</td>\n",
       "      <td>2.17</td>\n",
       "      <td>2.09</td>\n",
       "      <td>1.84</td>\n",
       "      <td>1.85</td>\n",
       "      <td>2.03</td>\n",
       "    </tr>\n",
       "    <tr>\n",
       "      <td>4</td>\n",
       "      <td>1100023</td>\n",
       "      <td>ARIQUEMES</td>\n",
       "      <td>RO</td>\n",
       "      <td>NORTE</td>\n",
       "      <td>0kbps_a_512kbps</td>\n",
       "      <td>0.23</td>\n",
       "      <td>0.22</td>\n",
       "      <td>0.22</td>\n",
       "      <td>0.22</td>\n",
       "      <td>0.24</td>\n",
       "      <td>...</td>\n",
       "      <td>0.09</td>\n",
       "      <td>0.09</td>\n",
       "      <td>0.09</td>\n",
       "      <td>0.09</td>\n",
       "      <td>0.08</td>\n",
       "      <td>0.08</td>\n",
       "      <td>0.08</td>\n",
       "      <td>0.08</td>\n",
       "      <td>0.08</td>\n",
       "      <td>0.08</td>\n",
       "    </tr>\n",
       "  </tbody>\n",
       "</table>\n",
       "<p>5 rows × 51 columns</p>\n",
       "</div>"
      ],
      "text/plain": [
       "   Cod_Municipio              Municipio  UF Regiao            Faixa  2015_01  \\\n",
       "0        1100015  ALTA_FLORESTA_D_OESTE  RO  NORTE  0kbps_a_512kbps     0.13   \n",
       "1        1100015   ALTA_FLORESTA_D_OSTE  RO  NORTE  12Mbps_a_34Mbps     0.01   \n",
       "2        1100015  ALTA_FLORESTA_D_OESTE  RO  NORTE   2Mbps_a_12Mbps     0.68   \n",
       "3        1100015  ALTA_FLORESTA_D_OESTE  RO  NORTE  512kbps_a_2Mbps     1.38   \n",
       "4        1100023              ARIQUEMES  RO  NORTE  0kbps_a_512kbps     0.23   \n",
       "\n",
       "   2015_02  2015_03  2015_04  2015_05  ...  2018_01  2018_02  2018_03  \\\n",
       "0     0.12     0.10     0.13     0.11  ...     0.24     0.26     0.25   \n",
       "1     0.01     0.01     0.01     0.02  ...     0.20     0.20     0.21   \n",
       "2     0.73     0.76     0.80     0.88  ...     1.07     1.07     1.07   \n",
       "3     1.37     1.36     1.35     1.33  ...     1.50     1.54     1.56   \n",
       "4     0.22     0.22     0.22     0.24  ...     0.09     0.09     0.09   \n",
       "\n",
       "   2018_04  2018_05  2018_06  2018_07  2018_08  2018_09  2018_10  \n",
       "0     0.59     0.59     0.60     0.66     0.65     0.66     0.65  \n",
       "1     0.22     0.18     0.18     0.19     0.20     0.20     0.19  \n",
       "2     1.09     1.09     1.11     1.50     1.32     1.27     1.64  \n",
       "3     2.31     2.19     2.17     2.09     1.84     1.85     2.03  \n",
       "4     0.09     0.08     0.08     0.08     0.08     0.08     0.08  \n",
       "\n",
       "[5 rows x 51 columns]"
      ]
     },
     "execution_count": 1284,
     "metadata": {},
     "output_type": "execute_result"
    }
   ],
   "source": [
    "data.head()"
   ]
  },
  {
   "cell_type": "code",
   "execution_count": 1285,
   "metadata": {},
   "outputs": [],
   "source": [
    "regNrt = data['Regiao'] == \"NORTE\"\n",
    "regSul = data['Regiao'] == \"SUL\"\n",
    "regSud = data['Regiao'] == 'SUDESTE'\n",
    "regNrd = data['Regiao'] == 'NORDESTE'\n",
    "regCen = data['Regiao'] == 'CENTROOESTE'"
   ]
  },
  {
   "cell_type": "code",
   "execution_count": 1286,
   "metadata": {},
   "outputs": [],
   "source": [
    "spd1 = data['Faixa'] == '0kbps_a_512kbps'\n",
    "spd2 = data['Faixa'] == '512kbps_a_2Mbps'\n",
    "spd3 = data['Faixa'] == '2Mbps_a_12Mbps'\n",
    "spd4 = data['Faixa'] == '12Mbps_a_34Mbps'\n",
    "spd5 = data['Faixa'] == '>_34Mbps'"
   ]
  },
  {
   "cell_type": "code",
   "execution_count": 1287,
   "metadata": {},
   "outputs": [],
   "source": [
    "resNrt1 = data[(regNrt) & (spd1)]\n",
    "resNrt2 = data[(regNrt) & (spd2)]\n",
    "resNrt3 = data[(regNrt) & (spd3)]\n",
    "resNrt4 = data[(regNrt) & (spd4)]\n",
    "resNrt5 = data[(regNrt) & (spd5)]"
   ]
  },
  {
   "cell_type": "code",
   "execution_count": 1288,
   "metadata": {},
   "outputs": [],
   "source": [
    "resSul1 = data[(regSul) & (spd1)]\n",
    "resSul2 = data[(regSul) & (spd2)]\n",
    "resSul3 = data[(regSul) & (spd3)]\n",
    "resSul4 = data[(regSul) & (spd4)]\n",
    "resSul5 = data[(regSul) & (spd5)]"
   ]
  },
  {
   "cell_type": "code",
   "execution_count": 1289,
   "metadata": {},
   "outputs": [],
   "source": [
    "resSud1 = data[(regSud) & (spd1)]\n",
    "resSud2 = data[(regSud) & (spd2)]\n",
    "resSud3 = data[(regSud) & (spd3)]\n",
    "resSud4 = data[(regSud) & (spd4)]\n",
    "resSud5 = data[(regSud) & (spd5)]"
   ]
  },
  {
   "cell_type": "code",
   "execution_count": 1290,
   "metadata": {},
   "outputs": [],
   "source": [
    "resNrd1 = data[(regNrd) & (spd1)]\n",
    "resNrd2 = data[(regNrd) & (spd2)]\n",
    "resNrd3 = data[(regNrd) & (spd3)]\n",
    "resNrd4 = data[(regNrd) & (spd4)]\n",
    "resNrd5 = data[(regNrd) & (spd5)]"
   ]
  },
  {
   "cell_type": "code",
   "execution_count": 1291,
   "metadata": {},
   "outputs": [],
   "source": [
    "resCen1 = data[(regCen) & (spd1)]\n",
    "resCen2 = data[(regCen) & (spd2)]\n",
    "resCen3 = data[(regCen) & (spd3)]\n",
    "resCen4 = data[(regCen) & (spd4)]\n",
    "resCen5 = data[(regCen) & (spd5)]"
   ]
  },
  {
   "cell_type": "code",
   "execution_count": 1292,
   "metadata": {},
   "outputs": [],
   "source": [
    "pd.set_option('display.max_rows', data.shape[0]+1)"
   ]
  },
  {
   "cell_type": "code",
   "execution_count": 1293,
   "metadata": {},
   "outputs": [],
   "source": [
    "#resNrt1"
   ]
  },
  {
   "cell_type": "code",
   "execution_count": 1294,
   "metadata": {},
   "outputs": [],
   "source": [
    "#resNrt2"
   ]
  },
  {
   "cell_type": "code",
   "execution_count": 1295,
   "metadata": {},
   "outputs": [],
   "source": [
    "#resNrt3"
   ]
  },
  {
   "cell_type": "code",
   "execution_count": 1296,
   "metadata": {},
   "outputs": [],
   "source": [
    "#resNrt4"
   ]
  },
  {
   "cell_type": "code",
   "execution_count": 1297,
   "metadata": {},
   "outputs": [],
   "source": [
    "#resNrt5"
   ]
  },
  {
   "cell_type": "markdown",
   "metadata": {},
   "source": [
    "# CÁLCULOS DAS MÉDIAS POR SEMESTRE"
   ]
  },
  {
   "cell_type": "markdown",
   "metadata": {},
   "source": [
    "# Região Norte"
   ]
  },
  {
   "cell_type": "code",
   "execution_count": 1298,
   "metadata": {},
   "outputs": [],
   "source": [
    "dfResNrtSpd1 = pd.DataFrame()\n",
    "dfResNrtSpd1['S1 /2015'] = [resNrt1['2015_01'].mean(), resNrt1['2015_02'].mean(), resNrt1['2015_03'].mean(), resNrt1['2015_04'].mean(), resNrt1['2015_05'].mean(), resNrt1['2015_06'].mean()]\n",
    "dfResNrtSpd1['S2 /2015'] = [resNrt1['2015_07'].mean(), resNrt1['2015_08'].mean(), resNrt1['2015_09'].mean(), resNrt1['2015_10'].mean(), resNrt1['2015_11'].mean(), resNrt1['2015_12'].mean()]\n",
    "dfResNrtSpd1['S1 /2016'] = [resNrt1['2016_01'].mean(), resNrt1['2016_02'].mean(), resNrt1['2016_03'].mean(), resNrt1['2016_04'].mean(), resNrt1['2016_05'].mean(), resNrt1['2016_06'].mean()]\n",
    "dfResNrtSpd1['S2 /2016'] = [resNrt1['2016_07'].mean(), resNrt1['2016_08'].mean(), resNrt1['2016_09'].mean(), resNrt1['2016_10'].mean(), resNrt1['2016_11'].mean(), resNrt1['2016_12'].mean()]\n",
    "dfResNrtSpd1['S1 /2017'] = [resNrt1['2017_01'].mean(), resNrt1['2017_02'].mean(), resNrt1['2017_03'].mean(), resNrt1['2017_04'].mean(), resNrt1['2017_05'].mean(), resNrt1['2017_06'].mean()]\n",
    "dfResNrtSpd1['S2 /2017'] = [resNrt1['2017_07'].mean(), resNrt1['2017_08'].mean(), resNrt1['2017_09'].mean(), resNrt1['2017_10'].mean(), resNrt1['2017_11'].mean(), resNrt1['2017_12'].mean()]\n",
    "dfResNrtSpd1['S1 /2018'] = [resNrt1['2018_01'].mean(), resNrt1['2018_02'].mean(), resNrt1['2018_03'].mean(), resNrt1['2018_04'].mean(), resNrt1['2018_05'].mean(), resNrt1['2018_06'].mean()]\n",
    "#dfResNrtSpd1['S2 /2018'] = [resNrt1['2018_07'].mean(), resNrt1['2018_08'].mean(), resNrt1['2018_09'].mean(), resNrt1['2018_10'].mean(), 0, 0]"
   ]
  },
  {
   "cell_type": "code",
   "execution_count": 1299,
   "metadata": {},
   "outputs": [],
   "source": [
    "dfResNrtSpd2 = pd.DataFrame()\n",
    "dfResNrtSpd2['S1 /2015'] = [resNrt2['2015_01'].mean(), resNrt2['2015_02'].mean(), resNrt2['2015_03'].mean(), resNrt2['2015_04'].mean(), resNrt2['2015_05'].mean(), resNrt2['2015_06'].mean()]\n",
    "dfResNrtSpd2['S2 /2015'] = [resNrt2['2015_07'].mean(), resNrt2['2015_08'].mean(), resNrt2['2015_09'].mean(), resNrt2['2015_10'].mean(), resNrt2['2015_11'].mean(), resNrt2['2015_12'].mean()]\n",
    "dfResNrtSpd2['S1 /2016'] = [resNrt2['2016_01'].mean(), resNrt2['2016_02'].mean(), resNrt2['2016_03'].mean(), resNrt2['2016_04'].mean(), resNrt2['2016_05'].mean(), resNrt2['2016_06'].mean()]\n",
    "dfResNrtSpd2['S2 /2016'] = [resNrt2['2016_07'].mean(), resNrt2['2016_08'].mean(), resNrt2['2016_09'].mean(), resNrt2['2016_10'].mean(), resNrt2['2016_11'].mean(), resNrt2['2016_12'].mean()]\n",
    "dfResNrtSpd2['S1 /2017'] = [resNrt2['2017_01'].mean(), resNrt2['2017_02'].mean(), resNrt2['2017_03'].mean(), resNrt2['2017_04'].mean(), resNrt2['2017_05'].mean(), resNrt2['2017_06'].mean()]\n",
    "dfResNrtSpd2['S2 /2017'] = [resNrt2['2017_07'].mean(), resNrt2['2017_08'].mean(), resNrt2['2017_09'].mean(), resNrt2['2017_10'].mean(), resNrt2['2017_11'].mean(), resNrt2['2017_12'].mean()]\n",
    "dfResNrtSpd2['S1 /2018'] = [resNrt2['2018_01'].mean(), resNrt2['2018_02'].mean(), resNrt2['2018_03'].mean(), resNrt2['2018_04'].mean(), resNrt2['2018_05'].mean(), resNrt2['2018_06'].mean()]\n",
    "#dfResNrtSpd2['S2 /2018'] = [resNrt2['2018_07'].mean(), resNrt2['2018_08'].mean(), resNrt2['2018_09'].mean(), resNrt2['2018_10'].mean(), 0, 0]"
   ]
  },
  {
   "cell_type": "code",
   "execution_count": 1300,
   "metadata": {},
   "outputs": [],
   "source": [
    "dfResNrtSpd3 = pd.DataFrame()\n",
    "dfResNrtSpd3['S1 /2015'] = [resNrt3['2015_01'].mean(), resNrt3['2015_02'].mean(), resNrt3['2015_03'].mean(), resNrt3['2015_04'].mean(), resNrt3['2015_05'].mean(), resNrt3['2015_06'].mean()]\n",
    "dfResNrtSpd3['S2 /2015'] = [resNrt3['2015_07'].mean(), resNrt3['2015_08'].mean(), resNrt3['2015_09'].mean(), resNrt3['2015_10'].mean(), resNrt3['2015_11'].mean(), resNrt3['2015_12'].mean()]\n",
    "dfResNrtSpd3['S1 /2016'] = [resNrt3['2016_01'].mean(), resNrt3['2016_02'].mean(), resNrt3['2016_03'].mean(), resNrt3['2016_04'].mean(), resNrt3['2016_05'].mean(), resNrt3['2016_06'].mean()]\n",
    "dfResNrtSpd3['S2 /2016'] = [resNrt3['2016_07'].mean(), resNrt3['2016_08'].mean(), resNrt3['2016_09'].mean(), resNrt3['2016_10'].mean(), resNrt3['2016_11'].mean(), resNrt3['2016_12'].mean()]\n",
    "dfResNrtSpd3['S1 /2017'] = [resNrt3['2017_01'].mean(), resNrt3['2017_02'].mean(), resNrt3['2017_03'].mean(), resNrt3['2017_04'].mean(), resNrt3['2017_05'].mean(), resNrt3['2017_06'].mean()]\n",
    "dfResNrtSpd3['S2 /2017'] = [resNrt3['2017_07'].mean(), resNrt3['2017_08'].mean(), resNrt3['2017_09'].mean(), resNrt3['2017_10'].mean(), resNrt3['2017_11'].mean(), resNrt3['2017_12'].mean()]\n",
    "dfResNrtSpd3['S1 /2018'] = [resNrt3['2018_01'].mean(), resNrt3['2018_02'].mean(), resNrt3['2018_03'].mean(), resNrt3['2018_04'].mean(), resNrt3['2018_05'].mean(), resNrt3['2018_06'].mean()]\n",
    "#dfResNrtSpd3['S2 /2018'] = [resNrt3['2018_07'].mean(), resNrt3['2018_08'].mean(), resNrt3['2018_09'].mean(), resNrt3['2018_10'].mean(), 0, 0]"
   ]
  },
  {
   "cell_type": "code",
   "execution_count": 1301,
   "metadata": {},
   "outputs": [],
   "source": [
    "dfResNrtSpd4 = pd.DataFrame()\n",
    "dfResNrtSpd4['S1 /2015'] = [resNrt4['2015_01'].mean(), resNrt4['2015_02'].mean(), resNrt4['2015_03'].mean(), resNrt4['2015_04'].mean(), resNrt4['2015_05'].mean(), resNrt4['2015_06'].mean()]\n",
    "dfResNrtSpd4['S2 /2015'] = [resNrt4['2015_07'].mean(), resNrt4['2015_08'].mean(), resNrt4['2015_09'].mean(), resNrt4['2015_10'].mean(), resNrt4['2015_11'].mean(), resNrt4['2015_12'].mean()]\n",
    "dfResNrtSpd4['S1 /2016'] = [resNrt4['2016_01'].mean(), resNrt4['2016_02'].mean(), resNrt4['2016_03'].mean(), resNrt4['2016_04'].mean(), resNrt4['2016_05'].mean(), resNrt4['2016_06'].mean()]\n",
    "dfResNrtSpd4['S2 /2016'] = [resNrt4['2016_07'].mean(), resNrt4['2016_08'].mean(), resNrt4['2016_09'].mean(), resNrt4['2016_10'].mean(), resNrt4['2016_11'].mean(), resNrt4['2016_12'].mean()]\n",
    "dfResNrtSpd4['S1 /2017'] = [resNrt4['2017_01'].mean(), resNrt4['2017_02'].mean(), resNrt4['2017_03'].mean(), resNrt4['2017_04'].mean(), resNrt4['2017_05'].mean(), resNrt4['2017_06'].mean()]\n",
    "dfResNrtSpd4['S2 /2017'] = [resNrt4['2017_07'].mean(), resNrt4['2017_08'].mean(), resNrt4['2017_09'].mean(), resNrt4['2017_10'].mean(), resNrt4['2017_11'].mean(), resNrt4['2017_12'].mean()]\n",
    "dfResNrtSpd4['S1 /2018'] = [resNrt4['2018_01'].mean(), resNrt4['2018_02'].mean(), resNrt4['2018_03'].mean(), resNrt4['2018_04'].mean(), resNrt4['2018_05'].mean(), resNrt4['2018_06'].mean()]\n",
    "#dfResNrtSpd4['S2 /2018'] = [resNrt4['2018_07'].mean(), resNrt4['2018_08'].mean(), resNrt4['2018_09'].mean(), resNrt4['2018_10'].mean(), 0, 0]"
   ]
  },
  {
   "cell_type": "code",
   "execution_count": 1302,
   "metadata": {},
   "outputs": [],
   "source": [
    "dfResNrtSpd5 = pd.DataFrame()\n",
    "dfResNrtSpd5['S1 /2015'] = [resNrt5['2015_01'].mean(), resNrt5['2015_02'].mean(), resNrt5['2015_03'].mean(), resNrt5['2015_04'].mean(), resNrt5['2015_05'].mean(), resNrt5['2015_06'].mean()]\n",
    "dfResNrtSpd5['S2 /2015'] = [resNrt5['2015_07'].mean(), resNrt5['2015_08'].mean(), resNrt5['2015_09'].mean(), resNrt5['2015_10'].mean(), resNrt5['2015_11'].mean(), resNrt5['2015_12'].mean()]\n",
    "dfResNrtSpd5['S1 /2016'] = [resNrt5['2016_01'].mean(), resNrt5['2016_02'].mean(), resNrt5['2016_03'].mean(), resNrt5['2016_04'].mean(), resNrt5['2016_05'].mean(), resNrt5['2016_06'].mean()]\n",
    "dfResNrtSpd5['S2 /2016'] = [resNrt5['2016_07'].mean(), resNrt5['2016_08'].mean(), resNrt5['2016_09'].mean(), resNrt5['2016_10'].mean(), resNrt5['2016_11'].mean(), resNrt5['2016_12'].mean()]\n",
    "dfResNrtSpd5['S1 /2017'] = [resNrt5['2017_01'].mean(), resNrt5['2017_02'].mean(), resNrt5['2017_03'].mean(), resNrt5['2017_04'].mean(), resNrt5['2017_05'].mean(), resNrt5['2017_06'].mean()]\n",
    "dfResNrtSpd5['S2 /2017'] = [resNrt5['2017_07'].mean(), resNrt5['2017_08'].mean(), resNrt5['2017_09'].mean(), resNrt5['2017_10'].mean(), resNrt5['2017_11'].mean(), resNrt5['2017_12'].mean()]\n",
    "dfResNrtSpd5['S1 /2018'] = [resNrt5['2018_01'].mean(), resNrt5['2018_02'].mean(), resNrt5['2018_03'].mean(), resNrt5['2018_04'].mean(), resNrt5['2018_05'].mean(), resNrt5['2018_06'].mean()]\n",
    "#dfResNrtSpd5['S2 /2018'] = [resNrt5['2018_07'].mean(), resNrt5['2018_08'].mean(), resNrt5['2018_09'].mean(), resNrt5['2018_10'].mean(), 0, 0]"
   ]
  },
  {
   "cell_type": "code",
   "execution_count": 1303,
   "metadata": {
    "scrolled": true
   },
   "outputs": [],
   "source": [
    "#dfResNrtSpd2"
   ]
  },
  {
   "cell_type": "code",
   "execution_count": 1304,
   "metadata": {},
   "outputs": [],
   "source": [
    "dfFinalNrt1 = pd.DataFrame()\n",
    "dfFinalNrt1['Periodo'] = ['S1 /2015','S2 /2015', 'S1 /2016', 'S2 /2016', 'S1 /2017', 'S2 /2017', 'S1 /2018']\n",
    "dfFinalNrt1['0kbps_a_512kbps'] = [dfResNrtSpd1['S1 /2015'].mean(), dfResNrtSpd1['S2 /2015'].mean(),\n",
    "                                  dfResNrtSpd1['S1 /2016'].mean(), dfResNrtSpd1['S2 /2016'].mean(),\n",
    "                                  dfResNrtSpd1['S1 /2017'].mean(), dfResNrtSpd1['S2 /2017'].mean(),\n",
    "                                  dfResNrtSpd1['S1 /2018'].mean()]"
   ]
  },
  {
   "cell_type": "code",
   "execution_count": 1305,
   "metadata": {},
   "outputs": [],
   "source": [
    "dfFinalNrt2 = pd.DataFrame()\n",
    "dfFinalNrt2['Periodo'] = ['S1 /2015','S2 /2015', 'S1 /2016', 'S2 /2016', 'S1 /2017', 'S2 /2017', 'S1 /2018']\n",
    "dfFinalNrt2['512kbps_a_2Mbps'] = [dfResNrtSpd2['S1 /2015'].mean(), dfResNrtSpd2['S2 /2015'].mean(),\n",
    "                                  dfResNrtSpd2['S1 /2016'].mean(), dfResNrtSpd2['S2 /2016'].mean(),\n",
    "                                  dfResNrtSpd2['S1 /2017'].mean(), dfResNrtSpd2['S2 /2017'].mean(),\n",
    "                                  dfResNrtSpd2['S1 /2018'].mean()]"
   ]
  },
  {
   "cell_type": "code",
   "execution_count": 1306,
   "metadata": {},
   "outputs": [],
   "source": [
    "dfFinalNrt3 = pd.DataFrame()\n",
    "dfFinalNrt3['Periodo'] = ['S1 /2015','S2 /2015', 'S1 /2016', 'S2 /2016', 'S1 /2017', 'S2 /2017', 'S1 /2018']\n",
    "dfFinalNrt3['2Mbps_a_12Mbps'] = [dfResNrtSpd3['S1 /2015'].mean(), dfResNrtSpd3['S2 /2015'].mean(),\n",
    "                                 dfResNrtSpd3['S1 /2016'].mean(), dfResNrtSpd3['S2 /2016'].mean(),\n",
    "                                 dfResNrtSpd3['S1 /2017'].mean(), dfResNrtSpd3['S2 /2017'].mean(),\n",
    "                                 dfResNrtSpd3['S1 /2018'].mean()]"
   ]
  },
  {
   "cell_type": "code",
   "execution_count": 1307,
   "metadata": {},
   "outputs": [],
   "source": [
    "dfFinalNrt4 = pd.DataFrame()\n",
    "dfFinalNrt4['Periodo'] = ['S1 /2015','S2 /2015', 'S1 /2016', 'S2 /2016', 'S1 /2017', 'S2 /2017', 'S1 /2018']\n",
    "dfFinalNrt4['12Mbps_a_34Mbps'] = [dfResNrtSpd4['S1 /2015'].mean(), dfResNrtSpd4['S2 /2015'].mean(),\n",
    "                                  dfResNrtSpd4['S1 /2016'].mean(), dfResNrtSpd4['S2 /2016'].mean(),\n",
    "                                  dfResNrtSpd4['S1 /2017'].mean(), dfResNrtSpd4['S2 /2017'].mean(),\n",
    "                                  dfResNrtSpd4['S1 /2018'].mean()]"
   ]
  },
  {
   "cell_type": "code",
   "execution_count": 1308,
   "metadata": {},
   "outputs": [],
   "source": [
    "dfFinalNrt5 = pd.DataFrame()\n",
    "dfFinalNrt5['Periodo'] = ['S1 /2015','S2 /2015', 'S1 /2016', 'S2 /2016', 'S1 /2017', 'S2 /2017', 'S1 /2018']\n",
    "dfFinalNrt5['>_34Mbps'] = [dfResNrtSpd5['S1 /2015'].mean(), dfResNrtSpd5['S2 /2015'].mean(),\n",
    "                           dfResNrtSpd5['S1 /2016'].mean(), dfResNrtSpd5['S2 /2016'].mean(),\n",
    "                           dfResNrtSpd5['S1 /2017'].mean(), dfResNrtSpd5['S2 /2017'].mean(),\n",
    "                           dfResNrtSpd5['S1 /2018'].mean()]"
   ]
  },
  {
   "cell_type": "code",
   "execution_count": 1309,
   "metadata": {},
   "outputs": [],
   "source": [
    "#dfFinalNrt1.plot(color = 'olive', x = 'Periodo')"
   ]
  },
  {
   "cell_type": "markdown",
   "metadata": {},
   "source": [
    "# Região Sul"
   ]
  },
  {
   "cell_type": "code",
   "execution_count": 1310,
   "metadata": {},
   "outputs": [],
   "source": [
    "dfResSulSpd1 = pd.DataFrame()\n",
    "dfResSulSpd1['S1 /2015'] = [resSul1['2015_01'].mean(), resSul1['2015_02'].mean(), resSul1['2015_03'].mean(), resSul1['2015_04'].mean(), resSul1['2015_05'].mean(), resSul1['2015_06'].mean()]\n",
    "dfResSulSpd1['S2 /2015'] = [resSul1['2015_07'].mean(), resSul1['2015_08'].mean(), resSul1['2015_09'].mean(), resSul1['2015_10'].mean(), resSul1['2015_11'].mean(), resSul1['2015_12'].mean()]\n",
    "dfResSulSpd1['S1 /2016'] = [resSul1['2016_01'].mean(), resSul1['2016_02'].mean(), resSul1['2016_03'].mean(), resSul1['2016_04'].mean(), resSul1['2016_05'].mean(), resSul1['2016_06'].mean()]\n",
    "dfResSulSpd1['S2 /2016'] = [resSul1['2016_07'].mean(), resSul1['2016_08'].mean(), resSul1['2016_09'].mean(), resSul1['2016_10'].mean(), resSul1['2016_11'].mean(), resSul1['2016_12'].mean()]\n",
    "dfResSulSpd1['S1 /2017'] = [resSul1['2017_01'].mean(), resSul1['2017_02'].mean(), resSul1['2017_03'].mean(), resSul1['2017_04'].mean(), resSul1['2017_05'].mean(), resSul1['2017_06'].mean()]\n",
    "dfResSulSpd1['S2 /2017'] = [resSul1['2017_07'].mean(), resSul1['2017_08'].mean(), resSul1['2017_09'].mean(), resSul1['2017_10'].mean(), resSul1['2017_11'].mean(), resSul1['2017_12'].mean()]\n",
    "dfResSulSpd1['S1 /2018'] = [resSul1['2018_01'].mean(), resSul1['2018_02'].mean(), resSul1['2018_03'].mean(), resSul1['2018_04'].mean(), resSul1['2018_05'].mean(), resSul1['2018_06'].mean()]\n",
    "#dfResSulSpd1['S2 /2018'] = [resSul1['2018_07'].mean(), resSul1['2018_08'].mean(), resSul1['2018_09'].mean(), resSul1['2018_10'].mean(), 0, 0]"
   ]
  },
  {
   "cell_type": "code",
   "execution_count": 1311,
   "metadata": {},
   "outputs": [],
   "source": [
    "dfResSulSpd2 = pd.DataFrame()\n",
    "dfResSulSpd2['S1 /2015'] = [resSul2['2015_01'].mean(), resSul2['2015_02'].mean(), resSul2['2015_03'].mean(), resSul2['2015_04'].mean(), resSul2['2015_05'].mean(), resSul2['2015_06'].mean()]\n",
    "dfResSulSpd2['S2 /2015'] = [resSul2['2015_07'].mean(), resSul2['2015_08'].mean(), resSul2['2015_09'].mean(), resSul2['2015_10'].mean(), resSul2['2015_11'].mean(), resSul2['2015_12'].mean()]\n",
    "dfResSulSpd2['S1 /2016'] = [resSul2['2016_01'].mean(), resSul2['2016_02'].mean(), resSul2['2016_03'].mean(), resSul2['2016_04'].mean(), resSul2['2016_05'].mean(), resSul2['2016_06'].mean()]\n",
    "dfResSulSpd2['S2 /2016'] = [resSul2['2016_07'].mean(), resSul2['2016_08'].mean(), resSul2['2016_09'].mean(), resSul2['2016_10'].mean(), resSul2['2016_11'].mean(), resSul2['2016_12'].mean()]\n",
    "dfResSulSpd2['S1 /2017'] = [resSul2['2017_01'].mean(), resSul2['2017_02'].mean(), resSul2['2017_03'].mean(), resSul2['2017_04'].mean(), resSul2['2017_05'].mean(), resSul2['2017_06'].mean()]\n",
    "dfResSulSpd2['S2 /2017'] = [resSul2['2017_07'].mean(), resSul2['2017_08'].mean(), resSul2['2017_09'].mean(), resSul2['2017_10'].mean(), resSul2['2017_11'].mean(), resSul2['2017_12'].mean()]\n",
    "dfResSulSpd2['S1 /2018'] = [resSul2['2018_01'].mean(), resSul2['2018_02'].mean(), resSul2['2018_03'].mean(), resSul2['2018_04'].mean(), resSul2['2018_05'].mean(), resSul2['2018_06'].mean()]\n",
    "#dfResSulSpd2['S2 /2018'] = [resSul2['2018_07'].mean(), resSul2['2018_08'].mean(), resSul2['2018_09'].mean(), resSul2['2018_10'].mean(), 0, 0]"
   ]
  },
  {
   "cell_type": "code",
   "execution_count": 1312,
   "metadata": {},
   "outputs": [],
   "source": [
    "dfResSulSpd3 = pd.DataFrame()\n",
    "dfResSulSpd3['S1 /2015'] = [resSul3['2015_01'].mean(), resSul3['2015_02'].mean(), resSul3['2015_03'].mean(), resSul3['2015_04'].mean(), resSul3['2015_05'].mean(), resSul3['2015_06'].mean()]\n",
    "dfResSulSpd3['S2 /2015'] = [resSul3['2015_07'].mean(), resSul3['2015_08'].mean(), resSul3['2015_09'].mean(), resSul3['2015_10'].mean(), resSul3['2015_11'].mean(), resSul3['2015_12'].mean()]\n",
    "dfResSulSpd3['S1 /2016'] = [resSul3['2016_01'].mean(), resSul3['2016_02'].mean(), resSul3['2016_03'].mean(), resSul3['2016_04'].mean(), resSul3['2016_05'].mean(), resSul3['2016_06'].mean()]\n",
    "dfResSulSpd3['S2 /2016'] = [resSul3['2016_07'].mean(), resSul3['2016_08'].mean(), resSul3['2016_09'].mean(), resSul3['2016_10'].mean(), resSul3['2016_11'].mean(), resSul3['2016_12'].mean()]\n",
    "dfResSulSpd3['S1 /2017'] = [resSul3['2017_01'].mean(), resSul3['2017_02'].mean(), resSul3['2017_03'].mean(), resSul3['2017_04'].mean(), resSul3['2017_05'].mean(), resSul3['2017_06'].mean()]\n",
    "dfResSulSpd3['S2 /2017'] = [resSul3['2017_07'].mean(), resSul3['2017_08'].mean(), resSul3['2017_09'].mean(), resSul3['2017_10'].mean(), resSul3['2017_11'].mean(), resSul3['2017_12'].mean()]\n",
    "dfResSulSpd3['S1 /2018'] = [resSul3['2018_01'].mean(), resSul3['2018_02'].mean(), resSul3['2018_03'].mean(), resSul3['2018_04'].mean(), resSul3['2018_05'].mean(), resSul3['2018_06'].mean()]\n",
    "#dfResSulSpd3['S2 /2018'] = [resSul3['2018_07'].mean(), resSul3['2018_08'].mean(), resSul3['2018_09'].mean(), resSul3['2018_10'].mean(), 0, 0]"
   ]
  },
  {
   "cell_type": "code",
   "execution_count": 1313,
   "metadata": {},
   "outputs": [],
   "source": [
    "dfResSulSpd4 = pd.DataFrame()\n",
    "dfResSulSpd4['S1 /2015'] = [resSul4['2015_01'].mean(), resSul4['2015_02'].mean(), resSul4['2015_03'].mean(), resSul4['2015_04'].mean(), resSul4['2015_05'].mean(), resSul4['2015_06'].mean()]\n",
    "dfResSulSpd4['S2 /2015'] = [resSul4['2015_07'].mean(), resSul4['2015_08'].mean(), resSul4['2015_09'].mean(), resSul4['2015_10'].mean(), resSul4['2015_11'].mean(), resSul4['2015_12'].mean()]\n",
    "dfResSulSpd4['S1 /2016'] = [resSul4['2016_01'].mean(), resSul4['2016_02'].mean(), resSul4['2016_03'].mean(), resSul4['2016_04'].mean(), resSul4['2016_05'].mean(), resSul4['2016_06'].mean()]\n",
    "dfResSulSpd4['S2 /2016'] = [resSul4['2016_07'].mean(), resSul4['2016_08'].mean(), resSul4['2016_09'].mean(), resSul4['2016_10'].mean(), resSul4['2016_11'].mean(), resSul4['2016_12'].mean()]\n",
    "dfResSulSpd4['S1 /2017'] = [resSul4['2017_01'].mean(), resSul4['2017_02'].mean(), resSul4['2017_03'].mean(), resSul4['2017_04'].mean(), resSul4['2017_05'].mean(), resSul4['2017_06'].mean()]\n",
    "dfResSulSpd4['S2 /2017'] = [resSul4['2017_07'].mean(), resSul4['2017_08'].mean(), resSul4['2017_09'].mean(), resSul4['2017_10'].mean(), resSul4['2017_11'].mean(), resSul4['2017_12'].mean()]\n",
    "dfResSulSpd4['S1 /2018'] = [resSul4['2018_01'].mean(), resSul4['2018_02'].mean(), resSul4['2018_03'].mean(), resSul4['2018_04'].mean(), resSul4['2018_05'].mean(), resSul4['2018_06'].mean()]\n",
    "#dfResSulSpd4['S2 /2018'] = [resSul4['2018_07'].mean(), resSul4['2018_08'].mean(), resSul4['2018_09'].mean(), resSul4['2018_10'].mean(), 0, 0]"
   ]
  },
  {
   "cell_type": "code",
   "execution_count": 1314,
   "metadata": {},
   "outputs": [],
   "source": [
    "dfResSulSpd5 = pd.DataFrame()\n",
    "dfResSulSpd5['S1 /2015'] = [resSul5['2015_01'].mean(), resSul5['2015_02'].mean(), resSul5['2015_03'].mean(), resSul5['2015_04'].mean(), resSul5['2015_05'].mean(), resSul5['2015_06'].mean()]\n",
    "dfResSulSpd5['S2 /2015'] = [resSul5['2015_07'].mean(), resSul5['2015_08'].mean(), resSul5['2015_09'].mean(), resSul5['2015_10'].mean(), resSul5['2015_11'].mean(), resSul5['2015_12'].mean()]\n",
    "dfResSulSpd5['S1 /2016'] = [resSul5['2016_01'].mean(), resSul5['2016_02'].mean(), resSul5['2016_03'].mean(), resSul5['2016_04'].mean(), resSul5['2016_05'].mean(), resSul5['2016_06'].mean()]\n",
    "dfResSulSpd5['S2 /2016'] = [resSul5['2016_07'].mean(), resSul5['2016_08'].mean(), resSul5['2016_09'].mean(), resSul5['2016_10'].mean(), resSul5['2016_11'].mean(), resSul5['2016_12'].mean()]\n",
    "dfResSulSpd5['S1 /2017'] = [resSul5['2017_01'].mean(), resSul5['2017_02'].mean(), resSul5['2017_03'].mean(), resSul5['2017_04'].mean(), resSul5['2017_05'].mean(), resSul5['2017_06'].mean()]\n",
    "dfResSulSpd5['S2 /2017'] = [resSul5['2017_07'].mean(), resSul5['2017_08'].mean(), resSul5['2017_09'].mean(), resSul5['2017_10'].mean(), resSul5['2017_11'].mean(), resSul5['2017_12'].mean()]\n",
    "dfResSulSpd5['S1 /2018'] = [resSul5['2018_01'].mean(), resSul5['2018_02'].mean(), resSul5['2018_03'].mean(), resSul5['2018_04'].mean(), resSul5['2018_05'].mean(), resSul5['2018_06'].mean()]\n",
    "#dfResSulSpd5['S2 /2018'] = [resSul5['2018_07'].mean(), resSul5['2018_08'].mean(), resSul5['2018_09'].mean(), resSul5['2018_10'].mean(), 0, 0]"
   ]
  },
  {
   "cell_type": "code",
   "execution_count": 1315,
   "metadata": {},
   "outputs": [],
   "source": [
    "#dfResSulSpd1"
   ]
  },
  {
   "cell_type": "code",
   "execution_count": 1316,
   "metadata": {},
   "outputs": [],
   "source": [
    "dfFinalSul1 = pd.DataFrame()\n",
    "dfFinalSul1['Periodo'] = ['S1 /2015','S2 /2015', 'S1 /2016', 'S2 /2016', 'S1 /2017', 'S2 /2017', 'S1 /2018']\n",
    "dfFinalSul1['0kbps_a_512kbps'] = [dfResSulSpd1['S1 /2015'].mean(), dfResSulSpd1['S2 /2015'].mean(),\n",
    "                                  dfResSulSpd1['S1 /2016'].mean(), dfResSulSpd1['S2 /2016'].mean(),\n",
    "                                  dfResSulSpd1['S1 /2017'].mean(), dfResSulSpd1['S2 /2017'].mean(),\n",
    "                                  dfResSulSpd1['S1 /2018'].mean()]"
   ]
  },
  {
   "cell_type": "code",
   "execution_count": 1317,
   "metadata": {},
   "outputs": [],
   "source": [
    "dfFinalSul2 = pd.DataFrame()\n",
    "dfFinalSul2['Periodo'] = ['S1 /2015','S2 /2015', 'S1 /2016', 'S2 /2016', 'S1 /2017', 'S2 /2017', 'S1 /2018']\n",
    "dfFinalSul2['512kbps_a_2Mbps'] = [dfResSulSpd2['S1 /2015'].mean(), dfResSulSpd2['S2 /2015'].mean(),\n",
    "                                  dfResSulSpd2['S1 /2016'].mean(), dfResSulSpd2['S2 /2016'].mean(),\n",
    "                                  dfResSulSpd2['S1 /2017'].mean(), dfResSulSpd2['S2 /2017'].mean(),\n",
    "                                  dfResSulSpd2['S1 /2018'].mean()]"
   ]
  },
  {
   "cell_type": "code",
   "execution_count": 1318,
   "metadata": {},
   "outputs": [],
   "source": [
    "dfFinalSul3 = pd.DataFrame()\n",
    "dfFinalSul3['Periodo'] = ['S1 /2015','S2 /2015', 'S1 /2016', 'S2 /2016', 'S1 /2017', 'S2 /2017', 'S1 /2018']\n",
    "dfFinalSul3['2Mbps_a_12Mbps'] = [dfResSulSpd3['S1 /2015'].mean(), dfResSulSpd3['S2 /2015'].mean(),\n",
    "                                 dfResSulSpd3['S1 /2016'].mean(), dfResSulSpd3['S2 /2016'].mean(),\n",
    "                                 dfResSulSpd3['S1 /2017'].mean(), dfResSulSpd3['S2 /2017'].mean(),\n",
    "                                 dfResSulSpd3['S1 /2018'].mean()]"
   ]
  },
  {
   "cell_type": "code",
   "execution_count": 1319,
   "metadata": {},
   "outputs": [],
   "source": [
    "dfFinalSul4 = pd.DataFrame()\n",
    "dfFinalSul4['Periodo'] = ['S1 /2015','S2 /2015', 'S1 /2016', 'S2 /2016', 'S1 /2017', 'S2 /2017', 'S1 /2018']\n",
    "dfFinalSul4['12Mbps_a_34Mbps'] = [dfResSulSpd4['S1 /2015'].mean(), dfResSulSpd4['S2 /2015'].mean(),\n",
    "                                  dfResSulSpd4['S1 /2016'].mean(), dfResSulSpd4['S2 /2016'].mean(),\n",
    "                                  dfResSulSpd4['S1 /2017'].mean(), dfResSulSpd4['S2 /2017'].mean(),\n",
    "                                  dfResSulSpd4['S1 /2018'].mean()]"
   ]
  },
  {
   "cell_type": "code",
   "execution_count": 1320,
   "metadata": {},
   "outputs": [],
   "source": [
    "dfFinalSul5 = pd.DataFrame()\n",
    "dfFinalSul5['Periodo'] = ['S1 /2015','S2 /2015', 'S1 /2016', 'S2 /2016', 'S1 /2017', 'S2 /2017', 'S1 /2018']\n",
    "dfFinalSul5['>_34Mbps'] = [dfResSulSpd5['S1 /2015'].mean(), dfResSulSpd5['S2 /2015'].mean(),\n",
    "                           dfResSulSpd5['S1 /2016'].mean(), dfResSulSpd5['S2 /2016'].mean(),\n",
    "                           dfResSulSpd5['S1 /2017'].mean(), dfResSulSpd5['S2 /2017'].mean(),\n",
    "                           dfResSulSpd5['S1 /2018'].mean()]"
   ]
  },
  {
   "cell_type": "code",
   "execution_count": 1321,
   "metadata": {},
   "outputs": [],
   "source": [
    "#dfFinalSul5.plot(color = 'olive', x = 'Periodo')"
   ]
  },
  {
   "cell_type": "markdown",
   "metadata": {},
   "source": [
    "# Região Sudeste"
   ]
  },
  {
   "cell_type": "code",
   "execution_count": 1322,
   "metadata": {},
   "outputs": [],
   "source": [
    "dfResSudSpd1 = pd.DataFrame()\n",
    "dfResSudSpd1['S1 /2015'] = [resSud1['2015_01'].mean(), resSud1['2015_02'].mean(), resSud1['2015_03'].mean(), resSud1['2015_04'].mean(), resSud1['2015_05'].mean(), resSud1['2015_06'].mean()]\n",
    "dfResSudSpd1['S2 /2015'] = [resSud1['2015_07'].mean(), resSud1['2015_08'].mean(), resSud1['2015_09'].mean(), resSud1['2015_10'].mean(), resSud1['2015_11'].mean(), resSud1['2015_12'].mean()]\n",
    "dfResSudSpd1['S1 /2016'] = [resSud1['2016_01'].mean(), resSud1['2016_02'].mean(), resSud1['2016_03'].mean(), resSud1['2016_04'].mean(), resSud1['2016_05'].mean(), resSud1['2016_06'].mean()]\n",
    "dfResSudSpd1['S2 /2016'] = [resSud1['2016_07'].mean(), resSud1['2016_08'].mean(), resSud1['2016_09'].mean(), resSud1['2016_10'].mean(), resSud1['2016_11'].mean(), resSud1['2016_12'].mean()]\n",
    "dfResSudSpd1['S1 /2017'] = [resSud1['2017_01'].mean(), resSud1['2017_02'].mean(), resSud1['2017_03'].mean(), resSud1['2017_04'].mean(), resSud1['2017_05'].mean(), resSud1['2017_06'].mean()]\n",
    "dfResSudSpd1['S2 /2017'] = [resSud1['2017_07'].mean(), resSud1['2017_08'].mean(), resSud1['2017_09'].mean(), resSud1['2017_10'].mean(), resSud1['2017_11'].mean(), resSud1['2017_12'].mean()]\n",
    "dfResSudSpd1['S1 /2018'] = [resSud1['2018_01'].mean(), resSud1['2018_02'].mean(), resSud1['2018_03'].mean(), resSud1['2018_04'].mean(), resSud1['2018_05'].mean(), resSud1['2018_06'].mean()]\n",
    "#dfResSudSpd1['S2 /2018'] = [resSud1['2018_07'].mean(), resSud1['2018_08'].mean(), resSud1['2018_09'].mean(), resSud1['2018_10'].mean(), 0, 0]"
   ]
  },
  {
   "cell_type": "code",
   "execution_count": 1323,
   "metadata": {},
   "outputs": [],
   "source": [
    "dfResSudSpd2 = pd.DataFrame()\n",
    "dfResSudSpd2['S1 /2015'] = [resSud2['2015_01'].mean(), resSud2['2015_02'].mean(), resSud2['2015_03'].mean(), resSud2['2015_04'].mean(), resSud2['2015_05'].mean(), resSud2['2015_06'].mean()]\n",
    "dfResSudSpd2['S2 /2015'] = [resSud2['2015_07'].mean(), resSud2['2015_08'].mean(), resSud2['2015_09'].mean(), resSud2['2015_10'].mean(), resSud2['2015_11'].mean(), resSud2['2015_12'].mean()]\n",
    "dfResSudSpd2['S1 /2016'] = [resSud2['2016_01'].mean(), resSud2['2016_02'].mean(), resSud2['2016_03'].mean(), resSud2['2016_04'].mean(), resSud2['2016_05'].mean(), resSud2['2016_06'].mean()]\n",
    "dfResSudSpd2['S2 /2016'] = [resSud2['2016_07'].mean(), resSud2['2016_08'].mean(), resSud2['2016_09'].mean(), resSud2['2016_10'].mean(), resSud2['2016_11'].mean(), resSud2['2016_12'].mean()]\n",
    "dfResSudSpd2['S1 /2017'] = [resSud2['2017_01'].mean(), resSud2['2017_02'].mean(), resSud2['2017_03'].mean(), resSud2['2017_04'].mean(), resSud2['2017_05'].mean(), resSud2['2017_06'].mean()]\n",
    "dfResSudSpd2['S2 /2017'] = [resSud2['2017_07'].mean(), resSud2['2017_08'].mean(), resSud2['2017_09'].mean(), resSud2['2017_10'].mean(), resSud2['2017_11'].mean(), resSud2['2017_12'].mean()]\n",
    "dfResSudSpd2['S1 /2018'] = [resSud2['2018_01'].mean(), resSud2['2018_02'].mean(), resSud2['2018_03'].mean(), resSud2['2018_04'].mean(), resSud2['2018_05'].mean(), resSud2['2018_06'].mean()]\n",
    "#dfResSudSpd2['S2 /2018'] = [resSud2['2018_07'].mean(), resSud2['2018_08'].mean(), resSud2['2018_09'].mean(), resSud2['2018_10'].mean(), 0, 0]"
   ]
  },
  {
   "cell_type": "code",
   "execution_count": 1324,
   "metadata": {},
   "outputs": [],
   "source": [
    "dfResSudSpd3 = pd.DataFrame()\n",
    "dfResSudSpd3['S1 /2015'] = [resSud3['2015_01'].mean(), resSud3['2015_02'].mean(), resSud3['2015_03'].mean(), resSud3['2015_04'].mean(), resSud3['2015_05'].mean(), resSud3['2015_06'].mean()]\n",
    "dfResSudSpd3['S2 /2015'] = [resSud3['2015_07'].mean(), resSud3['2015_08'].mean(), resSud3['2015_09'].mean(), resSud3['2015_10'].mean(), resSud3['2015_11'].mean(), resSud3['2015_12'].mean()]\n",
    "dfResSudSpd3['S1 /2016'] = [resSud3['2016_01'].mean(), resSud3['2016_02'].mean(), resSud3['2016_03'].mean(), resSud3['2016_04'].mean(), resSud3['2016_05'].mean(), resSud3['2016_06'].mean()]\n",
    "dfResSudSpd3['S2 /2016'] = [resSud3['2016_07'].mean(), resSud3['2016_08'].mean(), resSud3['2016_09'].mean(), resSud3['2016_10'].mean(), resSud3['2016_11'].mean(), resSud3['2016_12'].mean()]\n",
    "dfResSudSpd3['S1 /2017'] = [resSud3['2017_01'].mean(), resSud3['2017_02'].mean(), resSud3['2017_03'].mean(), resSud3['2017_04'].mean(), resSud3['2017_05'].mean(), resSud3['2017_06'].mean()]\n",
    "dfResSudSpd3['S2 /2017'] = [resSud3['2017_07'].mean(), resSud3['2017_08'].mean(), resSud3['2017_09'].mean(), resSud3['2017_10'].mean(), resSud3['2017_11'].mean(), resSud3['2017_12'].mean()]\n",
    "dfResSudSpd3['S1 /2018'] = [resSud3['2018_01'].mean(), resSud3['2018_02'].mean(), resSud3['2018_03'].mean(), resSud3['2018_04'].mean(), resSud3['2018_05'].mean(), resSud3['2018_06'].mean()]\n",
    "#dfResSudSpd3['S2 /2018'] = [resSud3['2018_07'].mean(), resSud3['2018_08'].mean(), resSud3['2018_09'].mean(), resSud3['2018_10'].mean(), 0, 0]"
   ]
  },
  {
   "cell_type": "code",
   "execution_count": 1325,
   "metadata": {},
   "outputs": [],
   "source": [
    "dfResSudSpd4 = pd.DataFrame()\n",
    "dfResSudSpd4['S1 /2015'] = [resSud4['2015_01'].mean(), resSud4['2015_02'].mean(), resSud4['2015_03'].mean(), resSud4['2015_04'].mean(), resSud4['2015_05'].mean(), resSud4['2015_06'].mean()]\n",
    "dfResSudSpd4['S2 /2015'] = [resSud4['2015_07'].mean(), resSud4['2015_08'].mean(), resSud4['2015_09'].mean(), resSud4['2015_10'].mean(), resSud4['2015_11'].mean(), resSud4['2015_12'].mean()]\n",
    "dfResSudSpd4['S1 /2016'] = [resSud4['2016_01'].mean(), resSud4['2016_02'].mean(), resSud4['2016_03'].mean(), resSud4['2016_04'].mean(), resSud4['2016_05'].mean(), resSud4['2016_06'].mean()]\n",
    "dfResSudSpd4['S2 /2016'] = [resSud4['2016_07'].mean(), resSud4['2016_08'].mean(), resSud4['2016_09'].mean(), resSud4['2016_10'].mean(), resSud4['2016_11'].mean(), resSud4['2016_12'].mean()]\n",
    "dfResSudSpd4['S1 /2017'] = [resSud4['2017_01'].mean(), resSud4['2017_02'].mean(), resSud4['2017_03'].mean(), resSud4['2017_04'].mean(), resSud4['2017_05'].mean(), resSud4['2017_06'].mean()]\n",
    "dfResSudSpd4['S2 /2017'] = [resSud4['2017_07'].mean(), resSud4['2017_08'].mean(), resSud4['2017_09'].mean(), resSud4['2017_10'].mean(), resSud4['2017_11'].mean(), resSud4['2017_12'].mean()]\n",
    "dfResSudSpd4['S1 /2018'] = [resSud4['2018_01'].mean(), resSud4['2018_02'].mean(), resSud4['2018_03'].mean(), resSud4['2018_04'].mean(), resSud4['2018_05'].mean(), resSud4['2018_06'].mean()]\n",
    "#dfResSudSpd4['S2 /2018'] = [resSud4['2018_07'].mean(), resSud4['2018_08'].mean(), resSud4['2018_09'].mean(), resSud4['2018_10'].mean(), 0, 0]"
   ]
  },
  {
   "cell_type": "code",
   "execution_count": 1326,
   "metadata": {},
   "outputs": [],
   "source": [
    "dfResSudSpd5 = pd.DataFrame()\n",
    "dfResSudSpd5['S1 /2015'] = [resSud5['2015_01'].mean(), resSud5['2015_02'].mean(), resSud5['2015_03'].mean(), resSud5['2015_04'].mean(), resSud5['2015_05'].mean(), resSud5['2015_06'].mean()]\n",
    "dfResSudSpd5['S2 /2015'] = [resSud5['2015_07'].mean(), resSud5['2015_08'].mean(), resSud5['2015_09'].mean(), resSud5['2015_10'].mean(), resSud5['2015_11'].mean(), resSud5['2015_12'].mean()]\n",
    "dfResSudSpd5['S1 /2016'] = [resSud5['2016_01'].mean(), resSud5['2016_02'].mean(), resSud5['2016_03'].mean(), resSud5['2016_04'].mean(), resSud5['2016_05'].mean(), resSud5['2016_06'].mean()]\n",
    "dfResSudSpd5['S2 /2016'] = [resSud5['2016_07'].mean(), resSud5['2016_08'].mean(), resSud5['2016_09'].mean(), resSud5['2016_10'].mean(), resSud5['2016_11'].mean(), resSud5['2016_12'].mean()]\n",
    "dfResSudSpd5['S1 /2017'] = [resSud5['2017_01'].mean(), resSud5['2017_02'].mean(), resSud5['2017_03'].mean(), resSud5['2017_04'].mean(), resSud5['2017_05'].mean(), resSud5['2017_06'].mean()]\n",
    "dfResSudSpd5['S2 /2017'] = [resSud5['2017_07'].mean(), resSud5['2017_08'].mean(), resSud5['2017_09'].mean(), resSud5['2017_10'].mean(), resSud5['2017_11'].mean(), resSud5['2017_12'].mean()]\n",
    "dfResSudSpd5['S1 /2018'] = [resSud5['2018_01'].mean(), resSud5['2018_02'].mean(), resSud5['2018_03'].mean(), resSud5['2018_04'].mean(), resSud5['2018_05'].mean(), resSud5['2018_06'].mean()]\n",
    "#dfResSudSpd5['S2 /2018'] = [resSud5['2018_07'].mean(), resSud5['2018_08'].mean(), resSud5['2018_09'].mean(), resSud5['2018_10'].mean(), 0, 0]"
   ]
  },
  {
   "cell_type": "code",
   "execution_count": 1327,
   "metadata": {},
   "outputs": [],
   "source": [
    "#dfResSudSpd3"
   ]
  },
  {
   "cell_type": "code",
   "execution_count": 1328,
   "metadata": {},
   "outputs": [],
   "source": [
    "dfFinalSud1 = pd.DataFrame()\n",
    "dfFinalSud1['Periodo'] = ['S1 /2015','S2 /2015', 'S1 /2016', 'S2 /2016', 'S1 /2017', 'S2 /2017', 'S1 /2018']\n",
    "dfFinalSud1['0kbps_a_512kbps'] = [dfResSudSpd1['S1 /2015'].mean(), dfResSudSpd1['S2 /2015'].mean(),\n",
    "                                  dfResSudSpd1['S1 /2016'].mean(), dfResSudSpd1['S2 /2016'].mean(),\n",
    "                                  dfResSudSpd1['S1 /2017'].mean(), dfResSudSpd1['S2 /2017'].mean(),\n",
    "                                  dfResSudSpd1['S1 /2018'].mean()]"
   ]
  },
  {
   "cell_type": "code",
   "execution_count": 1329,
   "metadata": {},
   "outputs": [],
   "source": [
    "dfFinalSud2 = pd.DataFrame()\n",
    "dfFinalSud2['Periodo'] = ['S1 /2015','S2 /2015', 'S1 /2016', 'S2 /2016', 'S1 /2017', 'S2 /2017', 'S1 /2018']\n",
    "dfFinalSud2['512kbps_a_2Mbps'] = [dfResSudSpd2['S1 /2015'].mean(), dfResSudSpd2['S2 /2015'].mean(),\n",
    "                                  dfResSudSpd2['S1 /2016'].mean(), dfResSudSpd2['S2 /2016'].mean(),\n",
    "                                  dfResSudSpd2['S1 /2017'].mean(), dfResSudSpd2['S2 /2017'].mean(),\n",
    "                                  dfResSudSpd2['S1 /2018'].mean()]"
   ]
  },
  {
   "cell_type": "code",
   "execution_count": 1330,
   "metadata": {},
   "outputs": [],
   "source": [
    "dfFinalSud3 = pd.DataFrame()\n",
    "dfFinalSud3['Periodo'] = ['S1 /2015','S2 /2015', 'S1 /2016', 'S2 /2016', 'S1 /2017', 'S2 /2017', 'S1 /2018']\n",
    "dfFinalSud3['2Mbps_a_12Mbps'] = [dfResSudSpd3['S1 /2015'].mean(), dfResSudSpd3['S2 /2015'].mean(),\n",
    "                                 dfResSudSpd3['S1 /2016'].mean(), dfResSudSpd3['S2 /2016'].mean(),\n",
    "                                 dfResSudSpd3['S1 /2017'].mean(), dfResSudSpd3['S2 /2017'].mean(),\n",
    "                                 dfResSudSpd3['S1 /2018'].mean()]"
   ]
  },
  {
   "cell_type": "code",
   "execution_count": 1331,
   "metadata": {},
   "outputs": [],
   "source": [
    "dfFinalSud4 = pd.DataFrame()\n",
    "dfFinalSud4['Periodo'] = ['S1 /2015','S2 /2015', 'S1 /2016', 'S2 /2016', 'S1 /2017', 'S2 /2017', 'S1 /2018']\n",
    "dfFinalSud4['12Mbps_a_34Mbps'] = [dfResSudSpd4['S1 /2015'].mean(), dfResSudSpd4['S2 /2015'].mean(),\n",
    "                                  dfResSudSpd4['S1 /2016'].mean(), dfResSudSpd4['S2 /2016'].mean(),\n",
    "                                  dfResSudSpd4['S1 /2017'].mean(), dfResSudSpd4['S2 /2017'].mean(),\n",
    "                                  dfResSudSpd4['S1 /2018'].mean()]"
   ]
  },
  {
   "cell_type": "code",
   "execution_count": 1332,
   "metadata": {},
   "outputs": [],
   "source": [
    "dfFinalSud5 = pd.DataFrame()\n",
    "dfFinalSud5['Periodo'] = ['S1 /2015','S2 /2015', 'S1 /2016', 'S2 /2016', 'S1 /2017', 'S2 /2017', 'S1 /2018']\n",
    "dfFinalSud5['>_34Mbps'] = [dfResSudSpd5['S1 /2015'].mean(), dfResSudSpd5['S2 /2015'].mean(),\n",
    "                           dfResSudSpd5['S1 /2016'].mean(), dfResSudSpd5['S2 /2016'].mean(),\n",
    "                           dfResSudSpd5['S1 /2017'].mean(), dfResSudSpd5['S2 /2017'].mean(),\n",
    "                           dfResSudSpd5['S1 /2018'].mean()]"
   ]
  },
  {
   "cell_type": "code",
   "execution_count": 1333,
   "metadata": {},
   "outputs": [],
   "source": [
    "#dfFinalSud5.plot(color = 'olive', x = 'Periodo')"
   ]
  },
  {
   "cell_type": "markdown",
   "metadata": {},
   "source": [
    "# Região Nordeste"
   ]
  },
  {
   "cell_type": "code",
   "execution_count": 1334,
   "metadata": {},
   "outputs": [],
   "source": [
    "dfResNrdSpd1 = pd.DataFrame()\n",
    "dfResNrdSpd1['S1 /2015'] = [resNrd1['2015_01'].mean(), resNrd1['2015_02'].mean(), resNrd1['2015_03'].mean(), resNrd1['2015_04'].mean(), resNrd1['2015_05'].mean(), resNrd1['2015_06'].mean()]\n",
    "dfResNrdSpd1['S2 /2015'] = [resNrd1['2015_07'].mean(), resNrd1['2015_08'].mean(), resNrd1['2015_09'].mean(), resNrd1['2015_10'].mean(), resNrd1['2015_11'].mean(), resNrd1['2015_12'].mean()]\n",
    "dfResNrdSpd1['S1 /2016'] = [resNrd1['2016_01'].mean(), resNrd1['2016_02'].mean(), resNrd1['2016_03'].mean(), resNrd1['2016_04'].mean(), resNrd1['2016_05'].mean(), resNrd1['2016_06'].mean()]\n",
    "dfResNrdSpd1['S2 /2016'] = [resNrd1['2016_07'].mean(), resNrd1['2016_08'].mean(), resNrd1['2016_09'].mean(), resNrd1['2016_10'].mean(), resNrd1['2016_11'].mean(), resNrd1['2016_12'].mean()]\n",
    "dfResNrdSpd1['S1 /2017'] = [resNrd1['2017_01'].mean(), resNrd1['2017_02'].mean(), resNrd1['2017_03'].mean(), resNrd1['2017_04'].mean(), resNrd1['2017_05'].mean(), resNrd1['2017_06'].mean()]\n",
    "dfResNrdSpd1['S2 /2017'] = [resNrd1['2017_07'].mean(), resNrd1['2017_08'].mean(), resNrd1['2017_09'].mean(), resNrd1['2017_10'].mean(), resNrd1['2017_11'].mean(), resNrd1['2017_12'].mean()]\n",
    "dfResNrdSpd1['S1 /2018'] = [resNrd1['2018_01'].mean(), resNrd1['2018_02'].mean(), resNrd1['2018_03'].mean(), resNrd1['2018_04'].mean(), resNrd1['2018_05'].mean(), resNrd1['2018_06'].mean()]\n",
    "#dfResNrdSpd1['S2 /2018'] = [resNrd1['2018_07'].mean(), resNrd1['2018_08'].mean(), resNrd1['2018_09'].mean(), resNrd1['2018_10'].mean(), 0, 0]"
   ]
  },
  {
   "cell_type": "code",
   "execution_count": 1335,
   "metadata": {},
   "outputs": [],
   "source": [
    "dfResNrdSpd2 = pd.DataFrame()\n",
    "dfResNrdSpd2['S1 /2015'] = [resNrd2['2015_01'].mean(), resNrd2['2015_02'].mean(), resNrd2['2015_03'].mean(), resNrd2['2015_04'].mean(), resNrd2['2015_05'].mean(), resNrd2['2015_06'].mean()]\n",
    "dfResNrdSpd2['S2 /2015'] = [resNrd2['2015_07'].mean(), resNrd2['2015_08'].mean(), resNrd2['2015_09'].mean(), resNrd2['2015_10'].mean(), resNrd2['2015_11'].mean(), resNrd2['2015_12'].mean()]\n",
    "dfResNrdSpd2['S1 /2016'] = [resNrd2['2016_01'].mean(), resNrd2['2016_02'].mean(), resNrd2['2016_03'].mean(), resNrd2['2016_04'].mean(), resNrd2['2016_05'].mean(), resNrd2['2016_06'].mean()]\n",
    "dfResNrdSpd2['S2 /2016'] = [resNrd2['2016_07'].mean(), resNrd2['2016_08'].mean(), resNrd2['2016_09'].mean(), resNrd2['2016_10'].mean(), resNrd2['2016_11'].mean(), resNrd2['2016_12'].mean()]\n",
    "dfResNrdSpd2['S1 /2017'] = [resNrd2['2017_01'].mean(), resNrd2['2017_02'].mean(), resNrd2['2017_03'].mean(), resNrd2['2017_04'].mean(), resNrd2['2017_05'].mean(), resNrd2['2017_06'].mean()]\n",
    "dfResNrdSpd2['S2 /2017'] = [resNrd2['2017_07'].mean(), resNrd2['2017_08'].mean(), resNrd2['2017_09'].mean(), resNrd2['2017_10'].mean(), resNrd2['2017_11'].mean(), resNrd2['2017_12'].mean()]\n",
    "dfResNrdSpd2['S1 /2018'] = [resNrd2['2018_01'].mean(), resNrd2['2018_02'].mean(), resNrd2['2018_03'].mean(), resNrd2['2018_04'].mean(), resNrd2['2018_05'].mean(), resNrd2['2018_06'].mean()]\n",
    "#dfResNrdSpd2['S2 /2018'] = [resNrd2['2018_07'].mean(), resNrd2['2018_08'].mean(), resNrd2['2018_09'].mean(), resNrd2['2018_10'].mean(), 0, 0]"
   ]
  },
  {
   "cell_type": "code",
   "execution_count": 1336,
   "metadata": {},
   "outputs": [],
   "source": [
    "dfResNrdSpd3 = pd.DataFrame()\n",
    "dfResNrdSpd3['S1 /2015'] = [resNrd3['2015_01'].mean(), resNrd3['2015_02'].mean(), resNrd3['2015_03'].mean(), resNrd3['2015_04'].mean(), resNrd3['2015_05'].mean(), resNrd3['2015_06'].mean()]\n",
    "dfResNrdSpd3['S2 /2015'] = [resNrd3['2015_07'].mean(), resNrd3['2015_08'].mean(), resNrd3['2015_09'].mean(), resNrd3['2015_10'].mean(), resNrd3['2015_11'].mean(), resNrd3['2015_12'].mean()]\n",
    "dfResNrdSpd3['S1 /2016'] = [resNrd3['2016_01'].mean(), resNrd3['2016_02'].mean(), resNrd3['2016_03'].mean(), resNrd3['2016_04'].mean(), resNrd3['2016_05'].mean(), resNrd3['2016_06'].mean()]\n",
    "dfResNrdSpd3['S2 /2016'] = [resNrd3['2016_07'].mean(), resNrd3['2016_08'].mean(), resNrd3['2016_09'].mean(), resNrd3['2016_10'].mean(), resNrd3['2016_11'].mean(), resNrd3['2016_12'].mean()]\n",
    "dfResNrdSpd3['S1 /2017'] = [resNrd3['2017_01'].mean(), resNrd3['2017_02'].mean(), resNrd3['2017_03'].mean(), resNrd3['2017_04'].mean(), resNrd3['2017_05'].mean(), resNrd3['2017_06'].mean()]\n",
    "dfResNrdSpd3['S2 /2017'] = [resNrd3['2017_07'].mean(), resNrd3['2017_08'].mean(), resNrd3['2017_09'].mean(), resNrd3['2017_10'].mean(), resNrd3['2017_11'].mean(), resNrd3['2017_12'].mean()]\n",
    "dfResNrdSpd3['S1 /2018'] = [resNrd3['2018_01'].mean(), resNrd3['2018_02'].mean(), resNrd3['2018_03'].mean(), resNrd3['2018_04'].mean(), resNrd3['2018_05'].mean(), resNrd3['2018_06'].mean()]\n",
    "#dfResNrdSpd3['S2 /2018'] = [resNrd3['2018_07'].mean(), resNrd3['2018_08'].mean(), resNrd3['2018_09'].mean(), resNrd3['2018_10'].mean(), 0, 0]"
   ]
  },
  {
   "cell_type": "code",
   "execution_count": 1337,
   "metadata": {},
   "outputs": [],
   "source": [
    "dfResNrdSpd4 = pd.DataFrame()\n",
    "dfResNrdSpd4['S1 /2015'] = [resNrd4['2015_01'].mean(), resNrd4['2015_02'].mean(), resNrd4['2015_03'].mean(), resNrd4['2015_04'].mean(), resNrd4['2015_05'].mean(), resNrd4['2015_06'].mean()]\n",
    "dfResNrdSpd4['S2 /2015'] = [resNrd4['2015_07'].mean(), resNrd4['2015_08'].mean(), resNrd4['2015_09'].mean(), resNrd4['2015_10'].mean(), resNrd4['2015_11'].mean(), resNrd4['2015_12'].mean()]\n",
    "dfResNrdSpd4['S1 /2016'] = [resNrd4['2016_01'].mean(), resNrd4['2016_02'].mean(), resNrd4['2016_03'].mean(), resNrd4['2016_04'].mean(), resNrd4['2016_05'].mean(), resNrd4['2016_06'].mean()]\n",
    "dfResNrdSpd4['S2 /2016'] = [resNrd4['2016_07'].mean(), resNrd4['2016_08'].mean(), resNrd4['2016_09'].mean(), resNrd4['2016_10'].mean(), resNrd4['2016_11'].mean(), resNrd4['2016_12'].mean()]\n",
    "dfResNrdSpd4['S1 /2017'] = [resNrd4['2017_01'].mean(), resNrd4['2017_02'].mean(), resNrd4['2017_03'].mean(), resNrd4['2017_04'].mean(), resNrd4['2017_05'].mean(), resNrd4['2017_06'].mean()]\n",
    "dfResNrdSpd4['S2 /2017'] = [resNrd4['2017_07'].mean(), resNrd4['2017_08'].mean(), resNrd4['2017_09'].mean(), resNrd4['2017_10'].mean(), resNrd4['2017_11'].mean(), resNrd4['2017_12'].mean()]\n",
    "dfResNrdSpd4['S1 /2018'] = [resNrd4['2018_01'].mean(), resNrd4['2018_02'].mean(), resNrd4['2018_03'].mean(), resNrd4['2018_04'].mean(), resNrd4['2018_05'].mean(), resNrd4['2018_06'].mean()]\n",
    "#dfResNrdSpd4['S2 /2018'] = [resNrd4['2018_07'].mean(), resNrd4['2018_08'].mean(), resNrd4['2018_09'].mean(), resNrd4['2018_10'].mean(), 0, 0]"
   ]
  },
  {
   "cell_type": "code",
   "execution_count": 1338,
   "metadata": {},
   "outputs": [],
   "source": [
    "dfResNrdSpd5 = pd.DataFrame()\n",
    "dfResNrdSpd5['S1 /2015'] = [resNrd5['2015_01'].mean(), resNrd5['2015_02'].mean(), resNrd5['2015_03'].mean(), resNrd5['2015_04'].mean(), resNrd5['2015_05'].mean(), resNrd5['2015_06'].mean()]\n",
    "dfResNrdSpd5['S2 /2015'] = [resNrd5['2015_07'].mean(), resNrd5['2015_08'].mean(), resNrd5['2015_09'].mean(), resNrd5['2015_10'].mean(), resNrd5['2015_11'].mean(), resNrd5['2015_12'].mean()]\n",
    "dfResNrdSpd5['S1 /2016'] = [resNrd5['2016_01'].mean(), resNrd5['2016_02'].mean(), resNrd5['2016_03'].mean(), resNrd5['2016_04'].mean(), resNrd5['2016_05'].mean(), resNrd5['2016_06'].mean()]\n",
    "dfResNrdSpd5['S2 /2016'] = [resNrd5['2016_07'].mean(), resNrd5['2016_08'].mean(), resNrd5['2016_09'].mean(), resNrd5['2016_10'].mean(), resNrd5['2016_11'].mean(), resNrd5['2016_12'].mean()]\n",
    "dfResNrdSpd5['S1 /2017'] = [resNrd5['2017_01'].mean(), resNrd5['2017_02'].mean(), resNrd5['2017_03'].mean(), resNrd5['2017_04'].mean(), resNrd5['2017_05'].mean(), resNrd5['2017_06'].mean()]\n",
    "dfResNrdSpd5['S2 /2017'] = [resNrd5['2017_07'].mean(), resNrd5['2017_08'].mean(), resNrd5['2017_09'].mean(), resNrd5['2017_10'].mean(), resNrd5['2017_11'].mean(), resNrd5['2017_12'].mean()]\n",
    "dfResNrdSpd5['S1 /2018'] = [resNrd5['2018_01'].mean(), resNrd5['2018_02'].mean(), resNrd5['2018_03'].mean(), resNrd5['2018_04'].mean(), resNrd5['2018_05'].mean(), resNrd5['2018_06'].mean()]\n",
    "#dfResNrdSpd5['S2 /2018'] = [resNrd5['2018_07'].mean(), resNrd5['2018_08'].mean(), resNrd5['2018_09'].mean(), resNrd5['2018_10'].mean(), 0, 0]"
   ]
  },
  {
   "cell_type": "code",
   "execution_count": 1339,
   "metadata": {},
   "outputs": [],
   "source": [
    "#dfResNrdSpd1"
   ]
  },
  {
   "cell_type": "code",
   "execution_count": 1340,
   "metadata": {},
   "outputs": [],
   "source": [
    "dfFinalNrd1 = pd.DataFrame()\n",
    "dfFinalNrd1['Periodo'] = ['S1 /2015','S2 /2015', 'S1 /2016', 'S2 /2016', 'S1 /2017', 'S2 /2017', 'S1 /2018']\n",
    "dfFinalNrd1['0kbps_a_512kbps'] = [dfResNrdSpd1['S1 /2015'].mean(), dfResNrdSpd1['S2 /2015'].mean(),\n",
    "                                  dfResNrdSpd1['S1 /2016'].mean(), dfResNrdSpd1['S2 /2016'].mean(),\n",
    "                                  dfResNrdSpd1['S1 /2017'].mean(), dfResNrdSpd1['S2 /2017'].mean(),\n",
    "                                  dfResNrdSpd1['S1 /2018'].mean()]"
   ]
  },
  {
   "cell_type": "code",
   "execution_count": 1341,
   "metadata": {},
   "outputs": [],
   "source": [
    "dfFinalNrd2 = pd.DataFrame()\n",
    "dfFinalNrd2['Periodo'] = ['S1 /2015','S2 /2015', 'S1 /2016', 'S2 /2016', 'S1 /2017', 'S2 /2017', 'S1 /2018']\n",
    "dfFinalNrd2['512kbps_a_2Mbps'] = [dfResNrdSpd2['S1 /2015'].mean(), dfResNrdSpd2['S2 /2015'].mean(),\n",
    "                                  dfResNrdSpd2['S1 /2016'].mean(), dfResNrdSpd2['S2 /2016'].mean(),\n",
    "                                  dfResNrdSpd2['S1 /2017'].mean(), dfResNrdSpd2['S2 /2017'].mean(),\n",
    "                                  dfResNrdSpd2['S1 /2018'].mean()]"
   ]
  },
  {
   "cell_type": "code",
   "execution_count": 1342,
   "metadata": {},
   "outputs": [],
   "source": [
    "dfFinalNrd3 = pd.DataFrame()\n",
    "dfFinalNrd3['Periodo'] = ['S1 /2015','S2 /2015', 'S1 /2016', 'S2 /2016', 'S1 /2017', 'S2 /2017', 'S1 /2018']\n",
    "dfFinalNrd3['2Mbps_a_12Mbps'] = [dfResNrdSpd3['S1 /2015'].mean(), dfResNrdSpd3['S2 /2015'].mean(),\n",
    "                                 dfResNrdSpd3['S1 /2016'].mean(), dfResNrdSpd3['S2 /2016'].mean(),\n",
    "                                 dfResNrdSpd3['S1 /2017'].mean(), dfResNrdSpd3['S2 /2017'].mean(),\n",
    "                                 dfResNrdSpd3['S1 /2018'].mean()]"
   ]
  },
  {
   "cell_type": "code",
   "execution_count": 1343,
   "metadata": {},
   "outputs": [],
   "source": [
    "dfFinalNrd4 = pd.DataFrame()\n",
    "dfFinalNrd4['Periodo'] = ['S1 /2015','S2 /2015', 'S1 /2016', 'S2 /2016', 'S1 /2017', 'S2 /2017', 'S1 /2018']\n",
    "dfFinalNrd4['12Mbps_a_34Mbps'] = [dfResNrdSpd4['S1 /2015'].mean(), dfResNrdSpd4['S2 /2015'].mean(),\n",
    "                                  dfResNrdSpd4['S1 /2016'].mean(), dfResNrdSpd4['S2 /2016'].mean(),\n",
    "                                  dfResNrdSpd4['S1 /2017'].mean(), dfResNrdSpd4['S2 /2017'].mean(),\n",
    "                                  dfResNrdSpd4['S1 /2018'].mean()]"
   ]
  },
  {
   "cell_type": "code",
   "execution_count": 1344,
   "metadata": {},
   "outputs": [],
   "source": [
    "dfFinalNrd5 = pd.DataFrame()\n",
    "dfFinalNrd5['Periodo'] = ['S1 /2015','S2 /2015', 'S1 /2016', 'S2 /2016', 'S1 /2017', 'S2 /2017', 'S1 /2018']\n",
    "dfFinalNrd5['>_34Mbps'] = [dfResNrdSpd5['S1 /2015'].mean(), dfResNrdSpd5['S2 /2015'].mean(),\n",
    "                           dfResNrdSpd5['S1 /2016'].mean(), dfResNrdSpd5['S2 /2016'].mean(),\n",
    "                           dfResNrdSpd5['S1 /2017'].mean(), dfResNrdSpd5['S2 /2017'].mean(),\n",
    "                           dfResNrdSpd5['S1 /2018'].mean()]"
   ]
  },
  {
   "cell_type": "code",
   "execution_count": 1345,
   "metadata": {},
   "outputs": [],
   "source": [
    "#dfFinalNrd1.plot(color = 'olive', x = 'Periodo')"
   ]
  },
  {
   "cell_type": "markdown",
   "metadata": {},
   "source": [
    "# GRÁFICO FINAL"
   ]
  },
  {
   "cell_type": "markdown",
   "metadata": {},
   "source": [
    "# Região Norte"
   ]
  },
  {
   "cell_type": "code",
   "execution_count": 1346,
   "metadata": {
    "scrolled": false
   },
   "outputs": [
    {
     "data": {
      "text/plain": [
       "(0, 5)"
      ]
     },
     "execution_count": 1346,
     "metadata": {},
     "output_type": "execute_result"
    },
    {
     "data": {
      "image/png": "[encoded data removed]",
      "text/plain": [
       "<Figure size 720x360 with 1 Axes>"
      ]
     },
     "metadata": {
      "needs_background": "light"
     },
     "output_type": "display_data"
    }
   ],
   "source": [
    "ax = dfFinalNrt1.plot(kind = 'line', x = 'Periodo', y = '0kbps_a_512kbps', color = 'olive', marker='o', label = '0kbps a 512kbps')\n",
    "dfFinalNrt2.plot(kind = 'line', x = 'Periodo', y = '512kbps_a_2Mbps', color = 'skyblue', marker='o', label = '512kbps a 2Mbps', ax = ax)\n",
    "dfFinalNrt3.plot(kind = 'line', x = 'Periodo', y = '2Mbps_a_12Mbps', color = 'grey', marker='o', label = '2Mbps a 12Mbps', ax = ax)\n",
    "dfFinalNrt4.plot(kind = 'line', x = 'Periodo', y = '12Mbps_a_34Mbps', color = '#FCDC3A', marker='o', label = '12Mbps a 34Mbps', ax = ax)\n",
    "dfFinalNrt5.plot(kind = 'line', x = 'Periodo', y = '>_34Mbps', color = 'red', marker='o', label = 'Acima de 34Mbps', ax = ax)\n",
    "plt.legend(bbox_to_anchor=(1.05, 1), loc='upper left', fancybox=True, framealpha=1, shadow=True, borderpad=1, title = 'Velocidades', labelspacing=1)\n",
    "plt.rcParams[\"figure.figsize\"] = (10,5)\n",
    "plt.title('Região Norte')\n",
    "axes = plt.gca()\n",
    "axes.set_ylim([0,5])"
   ]
  },
  {
   "cell_type": "markdown",
   "metadata": {},
   "source": [
    "# Região Sul"
   ]
  },
  {
   "cell_type": "code",
   "execution_count": 1347,
   "metadata": {},
   "outputs": [
    {
     "data": {
      "text/plain": [
       "(0, 5)"
      ]
     },
     "execution_count": 1347,
     "metadata": {},
     "output_type": "execute_result"
    },
    {
     "data": {
      "image/png": "[encoded data removed]",
      "text/plain": [
       "<Figure size 720x360 with 1 Axes>"
      ]
     },
     "metadata": {
      "needs_background": "light"
     },
     "output_type": "display_data"
    }
   ],
   "source": [
    "ax = dfFinalSul1.plot(kind = 'line', x = 'Periodo', y = '0kbps_a_512kbps', color = 'olive', marker='o', label = '0kbps a 512kbps')\n",
    "dfFinalSul2.plot(kind = 'line', x = 'Periodo', y = '512kbps_a_2Mbps', color = 'skyblue', marker='o', label = '512kbps a 2Mbps', ax = ax)\n",
    "dfFinalSul3.plot(kind = 'line', x = 'Periodo', y = '2Mbps_a_12Mbps', color = 'grey', marker='o', label = '2Mbps a 12Mbps', ax = ax)\n",
    "dfFinalSul4.plot(kind = 'line', x = 'Periodo', y = '12Mbps_a_34Mbps', color = '#FCDC3A', marker='o', label = '12Mbps a 34Mbps', ax = ax)\n",
    "dfFinalSul5.plot(kind = 'line', x = 'Periodo', y = '>_34Mbps', color = 'red', marker='o', label = 'Acima de 34Mbps', ax = ax)\n",
    "plt.legend(bbox_to_anchor=(1.05, 1), loc='upper left', fancybox=True, framealpha=1, shadow=True, borderpad=1, title = 'Velocidades', labelspacing=1)\n",
    "plt.rcParams[\"figure.figsize\"] = (10,5)\n",
    "plt.title('Região Sul')\n",
    "axes = plt.gca()\n",
    "axes.set_ylim([0,5])"
   ]
  },
  {
   "cell_type": "markdown",
   "metadata": {},
   "source": [
    "# Região Sudeste"
   ]
  },
  {
   "cell_type": "code",
   "execution_count": 1348,
   "metadata": {},
   "outputs": [
    {
     "data": {
      "text/plain": [
       "(0, 5)"
      ]
     },
     "execution_count": 1348,
     "metadata": {},
     "output_type": "execute_result"
    },
    {
     "data": {
      "image/png": "[encoded data removed]",
      "text/plain": [
       "<Figure size 720x360 with 1 Axes>"
      ]
     },
     "metadata": {
      "needs_background": "light"
     },
     "output_type": "display_data"
    }
   ],
   "source": [
    "ax = dfFinalSud1.plot(kind = 'line', x = 'Periodo', y = '0kbps_a_512kbps', color = 'olive', marker='o', label = '0kbps a 512kbps')\n",
    "dfFinalSud2.plot(kind = 'line', x = 'Periodo', y = '512kbps_a_2Mbps', color = 'skyblue', marker='o', label = '512kbps a 2Mbps', ax = ax)\n",
    "dfFinalSud3.plot(kind = 'line', x = 'Periodo', y = '2Mbps_a_12Mbps', color = 'grey', marker='o', label = '2Mbps a 12Mbps', ax = ax)\n",
    "dfFinalSud4.plot(kind = 'line', x = 'Periodo', y = '12Mbps_a_34Mbps', color = '#FCDC3A', marker='o', label = '12Mbps a 34Mbps', ax = ax)\n",
    "dfFinalSud5.plot(kind = 'line', x = 'Periodo', y = '>_34Mbps', color = 'red', marker='o', label = 'Acima de 34Mbps', ax = ax)\n",
    "plt.legend(bbox_to_anchor=(1.05, 1), loc='upper left', fancybox=True, framealpha=1, shadow=True, borderpad=1, title = 'Velocidades', labelspacing=1)\n",
    "plt.rcParams[\"figure.figsize\"] = (10,5)\n",
    "plt.title('Região Sudeste')\n",
    "axes = plt.gca()\n",
    "axes.set_ylim([0,5])"
   ]
  },
  {
   "cell_type": "markdown",
   "metadata": {},
   "source": [
    "# Região Nordeste"
   ]
  },
  {
   "cell_type": "code",
   "execution_count": 1349,
   "metadata": {},
   "outputs": [
    {
     "data": {
      "text/plain": [
       "(0, 5)"
      ]
     },
     "execution_count": 1349,
     "metadata": {},
     "output_type": "execute_result"
    },
    {
     "data": {
      "image/png": "[encoded data removed]",
      "text/plain": [
       "<Figure size 720x360 with 1 Axes>"
      ]
     },
     "metadata": {
      "needs_background": "light"
     },
     "output_type": "display_data"
    }
   ],
   "source": [
    "ax = dfFinalNrd1.plot(kind = 'line', x = 'Periodo', y = '0kbps_a_512kbps', color = 'olive', marker='o', label = '0kbps a 512kbps')\n",
    "dfFinalNrd2.plot(kind = 'line', x = 'Periodo', y = '512kbps_a_2Mbps', color = 'skyblue', marker='o', label = '512kbps a 2Mbps', ax = ax)\n",
    "dfFinalNrd3.plot(kind = 'line', x = 'Periodo', y = '2Mbps_a_12Mbps', color = 'grey', marker='o', label = '2Mbps a 12Mbps', ax = ax)\n",
    "dfFinalNrd4.plot(kind = 'line', x = 'Periodo', y = '12Mbps_a_34Mbps', color = '#FCDC3A', marker='o', label = '12Mbps a 34Mbps', ax = ax)\n",
    "dfFinalNrd5.plot(kind = 'line', x = 'Periodo', y = '>_34Mbps', color = 'red', marker='o', label = 'Acima de 34Mbps', ax = ax)\n",
    "plt.legend(bbox_to_anchor=(1.05, 1), loc='upper left', fancybox=True, framealpha=1, shadow=True, borderpad=1, title = 'Velocidades', labelspacing=1)\n",
    "plt.rcParams[\"figure.figsize\"] = (10,5)\n",
    "plt.title('Região Nordeste')\n",
    "axes = plt.gca()\n",
    "axes.set_ylim([0,5])"
   ]
  },
  {
   "cell_type": "code",
   "execution_count": null,
   "metadata": {},
   "outputs": [],
   "source": []
  }
 ],
 "metadata": {
  "kernelspec": {
   "display_name": "Python 3",
   "language": "python",
   "name": "python3"
  },
  "language_info": {
   "codemirror_mode": {
    "name": "ipython",
    "version": 3
   },
   "file_extension": ".py",
   "mimetype": "text/x-python",
   "name": "python",
   "nbconvert_exporter": "python",
   "pygments_lexer": "ipython3",
   "version": "3.7.4"
  }
 },
 "nbformat": 4,
 "nbformat_minor": 2
}
